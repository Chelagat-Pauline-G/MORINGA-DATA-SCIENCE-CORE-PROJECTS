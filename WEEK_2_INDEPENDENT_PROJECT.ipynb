{
  "nbformat": 4,
  "nbformat_minor": 0,
  "metadata": {
    "colab": {
      "name": "WEEK 2 INDEPENDENT PROJECT",
      "provenance": [],
      "collapsed_sections": [
        "EQb-shEdV_YZ",
        "IZMJIIzLeNzC",
        "HQ2JhV9ILkfP",
        "SAi7OnE_Ws9N",
        "dE8MDhQRW1Bp",
        "OH1o9RyhM2p8",
        "utAEaxoPMTb1",
        "6cWK0BeWNai8"
      ],
      "authorship_tag": "ABX9TyPtt+jUxerIvhhGmcf/Lbx2",
      "include_colab_link": true
    },
    "kernelspec": {
      "name": "python3",
      "display_name": "Python 3"
    }
  },
  "cells": [
    {
      "cell_type": "markdown",
      "metadata": {
        "id": "view-in-github",
        "colab_type": "text"
      },
      "source": [
        "<a href=\"https://colab.research.google.com/github/Chelagat-Pauline-G/MORINGA-DATA-SCIENCE-CORE-PROJECTS/blob/master/WEEK_2_INDEPENDENT_PROJECT.ipynb\" target=\"_parent\"><img src=\"https://colab.research.google.com/assets/colab-badge.svg\" alt=\"Open In Colab\"/></a>"
      ]
    },
    {
      "cell_type": "markdown",
      "metadata": {
        "id": "qjDj7Vhbdu4Q",
        "colab_type": "text"
      },
      "source": [
        "# **MORINGA DATA SCIENCE CORE WEEK 2 INDEPENDENT PROJECT** "
      ]
    },
    {
      "cell_type": "markdown",
      "metadata": {
        "id": "EQb-shEdV_YZ",
        "colab_type": "text"
      },
      "source": [
        "## 1. DEFINING THE QUESTION\n",
        "\n",
        "\n",
        "\n",
        "\n",
        "\n",
        "\n"
      ]
    },
    {
      "cell_type": "markdown",
      "metadata": {
        "id": "NSBT1teOIgvw",
        "colab_type": "text"
      },
      "source": [
        "### a) Specifying the Data Analytic Question"
      ]
    },
    {
      "cell_type": "markdown",
      "metadata": {
        "id": "YzHy2ZyLKiYb",
        "colab_type": "text"
      },
      "source": [
        ">Figure out how we can predict which individuals are most likely to have or use a bank account."
      ]
    },
    {
      "cell_type": "markdown",
      "metadata": {
        "id": "70a1wwsfK_co",
        "colab_type": "text"
      },
      "source": [
        "### b) Defining the Metric for Success"
      ]
    },
    {
      "cell_type": "markdown",
      "metadata": {
        "id": "hgvDSrswLBHf",
        "colab_type": "text"
      },
      "source": [
        "1. Which country did most participants come from?\n",
        "2. Which year did most responents participate in the survey?\n",
        "2. How many people have a bank account? What percentage is it of the total prople surveyed?\n",
        "3. How many people live in rural and urban areas?\n",
        "4. How many people have access to a cell phone?\n",
        "5. What is the gender distribution of the respondents?\n",
        "6. What is the distribution of household size of the respondents?\n",
        "7. What variables are correlated with having a bank accout or not?\n",
        "8. How much of a relationship is there between having the country one lives in and the type of location they live in?\n",
        "9. Is there a relationship between the type of location one lives in and the their type of job?\n",
        "10. What factors contribute largey to an individual having a bank account or not and if so what is their individual contributions?\n",
        "11. \n",
        "\n"
      ]
    },
    {
      "cell_type": "markdown",
      "metadata": {
        "id": "fJb1HgtuMAIp",
        "colab_type": "text"
      },
      "source": [
        "### c) Understanding the context "
      ]
    },
    {
      "cell_type": "markdown",
      "metadata": {
        "id": "yrsvo8G2QPf_",
        "colab_type": "text"
      },
      "source": [
        "Financial inclusion has remained to be a main obstacle in Kenya, Uganda, Tanzania and Rwanda. In order to fully understand the state of financial inclusion in these countries we will need to look into demographic factors that drive individuals' economic outcomes as we figure out which individuals are most likely to use or have a bank account."
      ]
    },
    {
      "cell_type": "markdown",
      "metadata": {
        "id": "FvYfzqE6MBa8",
        "colab_type": "text"
      },
      "source": [
        "### d) Recording the Experimental Design"
      ]
    },
    {
      "cell_type": "markdown",
      "metadata": {
        "id": "7wVqouyORpl0",
        "colab_type": "text"
      },
      "source": [
        "1. Load datasets\n",
        "2. Check the data: information, description, shape, null values,missing data and duplicates\n",
        "3. External data validation\n",
        "4. Clean and tidying up the data:missing values, duplicates, outliers and anomalies\n",
        "5. Data analysis:univariate, bivariate, multivariate \n",
        "6. Explore which variables/factors are useful in predicting whether an individual has a bank account or not.\n",
        "7. Explore a predictive model for detetcing whether an individual has a bank account or not.\n"
      ]
    },
    {
      "cell_type": "markdown",
      "metadata": {
        "id": "9Xuj0S7ZMDj8",
        "colab_type": "text"
      },
      "source": [
        "### e) Data Relevance"
      ]
    },
    {
      "cell_type": "markdown",
      "metadata": {
        "id": "vrhq21rPSFTm",
        "colab_type": "text"
      },
      "source": [
        "The data is relevant to answer the qestion at hand as it has the required fields."
      ]
    },
    {
      "cell_type": "markdown",
      "metadata": {
        "id": "IZMJIIzLeNzC",
        "colab_type": "text"
      },
      "source": [
        "## 2. READING THE DATA"
      ]
    },
    {
      "cell_type": "code",
      "metadata": {
        "id": "YSLX5s9TRo5A",
        "colab_type": "code",
        "colab": {}
      },
      "source": [
        "#Loading  our data set\n",
        "import pandas as pd\n",
        "import numpy as np\n",
        "import seaborn as sns\n",
        "import matplotlib.pyplot as plt\n",
        "\n",
        "df = pd.read_csv(\"http://bit.ly/FinancialDataset\")\n"
      ],
      "execution_count": null,
      "outputs": []
    },
    {
      "cell_type": "markdown",
      "metadata": {
        "id": "HQ2JhV9ILkfP",
        "colab_type": "text"
      },
      "source": [
        "## 3. CHECKING THE DATA"
      ]
    },
    {
      "cell_type": "code",
      "metadata": {
        "id": "Jny5vB6PTusd",
        "colab_type": "code",
        "colab": {
          "base_uri": "https://localhost:8080/",
          "height": 34
        },
        "outputId": "cfd99704-2fbf-427b-cd67-d5e385333d17"
      },
      "source": [
        "# Determining the no. of records in our dataset\n",
        "#\n",
        "df.shape"
      ],
      "execution_count": null,
      "outputs": [
        {
          "output_type": "execute_result",
          "data": {
            "text/plain": [
              "(23524, 12)"
            ]
          },
          "metadata": {
            "tags": []
          },
          "execution_count": 2
        }
      ]
    },
    {
      "cell_type": "code",
      "metadata": {
        "id": "yE4gmwyXT7uZ",
        "colab_type": "code",
        "colab": {
          "base_uri": "https://localhost:8080/",
          "height": 313
        },
        "outputId": "b458d7ee-2816-4b17-e1c4-1d3527d01c60"
      },
      "source": [
        "# Previewing the top of our dataset\n",
        "#\n",
        "df.head()"
      ],
      "execution_count": null,
      "outputs": [
        {
          "output_type": "execute_result",
          "data": {
            "text/html": [
              "<div>\n",
              "<style scoped>\n",
              "    .dataframe tbody tr th:only-of-type {\n",
              "        vertical-align: middle;\n",
              "    }\n",
              "\n",
              "    .dataframe tbody tr th {\n",
              "        vertical-align: top;\n",
              "    }\n",
              "\n",
              "    .dataframe thead th {\n",
              "        text-align: right;\n",
              "    }\n",
              "</style>\n",
              "<table border=\"1\" class=\"dataframe\">\n",
              "  <thead>\n",
              "    <tr style=\"text-align: right;\">\n",
              "      <th></th>\n",
              "      <th>country</th>\n",
              "      <th>year</th>\n",
              "      <th>uniqueid</th>\n",
              "      <th>Has a Bank account</th>\n",
              "      <th>Type of Location</th>\n",
              "      <th>Cell Phone Access</th>\n",
              "      <th>household_size</th>\n",
              "      <th>Respondent Age</th>\n",
              "      <th>gender_of_respondent</th>\n",
              "      <th>The relathip with head</th>\n",
              "      <th>marital_status</th>\n",
              "      <th>Level of Educuation</th>\n",
              "      <th>Type of Job</th>\n",
              "    </tr>\n",
              "  </thead>\n",
              "  <tbody>\n",
              "    <tr>\n",
              "      <th>0</th>\n",
              "      <td>Kenya</td>\n",
              "      <td>2018</td>\n",
              "      <td>uniqueid_1</td>\n",
              "      <td>Yes</td>\n",
              "      <td>Rural</td>\n",
              "      <td>Yes</td>\n",
              "      <td>3.0</td>\n",
              "      <td>24.0</td>\n",
              "      <td>Female</td>\n",
              "      <td>Spouse</td>\n",
              "      <td>Married/Living together</td>\n",
              "      <td>Secondary education</td>\n",
              "      <td>Self employed</td>\n",
              "    </tr>\n",
              "    <tr>\n",
              "      <th>1</th>\n",
              "      <td>Kenya</td>\n",
              "      <td>2018</td>\n",
              "      <td>uniqueid_2</td>\n",
              "      <td>No</td>\n",
              "      <td>Rural</td>\n",
              "      <td>No</td>\n",
              "      <td>5.0</td>\n",
              "      <td>70.0</td>\n",
              "      <td>Female</td>\n",
              "      <td>Head of Household</td>\n",
              "      <td>Widowed</td>\n",
              "      <td>No formal education</td>\n",
              "      <td>Government Dependent</td>\n",
              "    </tr>\n",
              "    <tr>\n",
              "      <th>2</th>\n",
              "      <td>Kenya</td>\n",
              "      <td>2018</td>\n",
              "      <td>uniqueid_3</td>\n",
              "      <td>Yes</td>\n",
              "      <td>Urban</td>\n",
              "      <td>Yes</td>\n",
              "      <td>5.0</td>\n",
              "      <td>26.0</td>\n",
              "      <td>Male</td>\n",
              "      <td>Other relative</td>\n",
              "      <td>Single/Never Married</td>\n",
              "      <td>Vocational/Specialised training</td>\n",
              "      <td>Self employed</td>\n",
              "    </tr>\n",
              "    <tr>\n",
              "      <th>3</th>\n",
              "      <td>Kenya</td>\n",
              "      <td>2018</td>\n",
              "      <td>uniqueid_4</td>\n",
              "      <td>No</td>\n",
              "      <td>Rural</td>\n",
              "      <td>Yes</td>\n",
              "      <td>5.0</td>\n",
              "      <td>34.0</td>\n",
              "      <td>Female</td>\n",
              "      <td>Head of Household</td>\n",
              "      <td>Married/Living together</td>\n",
              "      <td>Primary education</td>\n",
              "      <td>Formally employed Private</td>\n",
              "    </tr>\n",
              "    <tr>\n",
              "      <th>4</th>\n",
              "      <td>Kenya</td>\n",
              "      <td>2018</td>\n",
              "      <td>uniqueid_5</td>\n",
              "      <td>No</td>\n",
              "      <td>Urban</td>\n",
              "      <td>No</td>\n",
              "      <td>8.0</td>\n",
              "      <td>26.0</td>\n",
              "      <td>Male</td>\n",
              "      <td>Child</td>\n",
              "      <td>Single/Never Married</td>\n",
              "      <td>Primary education</td>\n",
              "      <td>Informally employed</td>\n",
              "    </tr>\n",
              "  </tbody>\n",
              "</table>\n",
              "</div>"
            ],
            "text/plain": [
              "  country  year  ...              Level of Educuation                Type of Job\n",
              "0   Kenya  2018  ...              Secondary education              Self employed\n",
              "1   Kenya  2018  ...              No formal education       Government Dependent\n",
              "2   Kenya  2018  ...  Vocational/Specialised training              Self employed\n",
              "3   Kenya  2018  ...                Primary education  Formally employed Private\n",
              "4   Kenya  2018  ...                Primary education        Informally employed\n",
              "\n",
              "[5 rows x 13 columns]"
            ]
          },
          "metadata": {
            "tags": []
          },
          "execution_count": 11
        }
      ]
    },
    {
      "cell_type": "code",
      "metadata": {
        "id": "rpGLqKg0T_n0",
        "colab_type": "code",
        "colab": {
          "base_uri": "https://localhost:8080/",
          "height": 296
        },
        "outputId": "ed5c7685-f588-4b52-a497-9004f79ba230"
      },
      "source": [
        "# Previewing the tail of our dataset\n",
        "#\n",
        "df.tail()"
      ],
      "execution_count": null,
      "outputs": [
        {
          "output_type": "execute_result",
          "data": {
            "text/html": [
              "<div>\n",
              "<style scoped>\n",
              "    .dataframe tbody tr th:only-of-type {\n",
              "        vertical-align: middle;\n",
              "    }\n",
              "\n",
              "    .dataframe tbody tr th {\n",
              "        vertical-align: top;\n",
              "    }\n",
              "\n",
              "    .dataframe thead th {\n",
              "        text-align: right;\n",
              "    }\n",
              "</style>\n",
              "<table border=\"1\" class=\"dataframe\">\n",
              "  <thead>\n",
              "    <tr style=\"text-align: right;\">\n",
              "      <th></th>\n",
              "      <th>country</th>\n",
              "      <th>year</th>\n",
              "      <th>uniqueid</th>\n",
              "      <th>Has a Bank account</th>\n",
              "      <th>Type of Location</th>\n",
              "      <th>Cell Phone Access</th>\n",
              "      <th>household_size</th>\n",
              "      <th>Respondent Age</th>\n",
              "      <th>gender_of_respondent</th>\n",
              "      <th>The relathip with head</th>\n",
              "      <th>marital_status</th>\n",
              "      <th>Level of Educuation</th>\n",
              "      <th>Type of Job</th>\n",
              "    </tr>\n",
              "  </thead>\n",
              "  <tbody>\n",
              "    <tr>\n",
              "      <th>23519</th>\n",
              "      <td>Uganda</td>\n",
              "      <td>2018</td>\n",
              "      <td>uniqueid_2113</td>\n",
              "      <td>No</td>\n",
              "      <td>Rural</td>\n",
              "      <td>Yes</td>\n",
              "      <td>4.0</td>\n",
              "      <td>48.0</td>\n",
              "      <td>Female</td>\n",
              "      <td>Head of Household</td>\n",
              "      <td>Divorced/Seperated</td>\n",
              "      <td>No formal education</td>\n",
              "      <td>Other Income</td>\n",
              "    </tr>\n",
              "    <tr>\n",
              "      <th>23520</th>\n",
              "      <td>Uganda</td>\n",
              "      <td>2018</td>\n",
              "      <td>uniqueid_2114</td>\n",
              "      <td>No</td>\n",
              "      <td>Rural</td>\n",
              "      <td>Yes</td>\n",
              "      <td>2.0</td>\n",
              "      <td>27.0</td>\n",
              "      <td>Female</td>\n",
              "      <td>Head of Household</td>\n",
              "      <td>Single/Never Married</td>\n",
              "      <td>Secondary education</td>\n",
              "      <td>Other Income</td>\n",
              "    </tr>\n",
              "    <tr>\n",
              "      <th>23521</th>\n",
              "      <td>Uganda</td>\n",
              "      <td>2018</td>\n",
              "      <td>uniqueid_2115</td>\n",
              "      <td>No</td>\n",
              "      <td>Rural</td>\n",
              "      <td>Yes</td>\n",
              "      <td>5.0</td>\n",
              "      <td>27.0</td>\n",
              "      <td>Female</td>\n",
              "      <td>Parent</td>\n",
              "      <td>Widowed</td>\n",
              "      <td>Primary education</td>\n",
              "      <td>Other Income</td>\n",
              "    </tr>\n",
              "    <tr>\n",
              "      <th>23522</th>\n",
              "      <td>Uganda</td>\n",
              "      <td>2018</td>\n",
              "      <td>uniqueid_2116</td>\n",
              "      <td>No</td>\n",
              "      <td>Urban</td>\n",
              "      <td>Yes</td>\n",
              "      <td>7.0</td>\n",
              "      <td>30.0</td>\n",
              "      <td>Female</td>\n",
              "      <td>Parent</td>\n",
              "      <td>Divorced/Seperated</td>\n",
              "      <td>Secondary education</td>\n",
              "      <td>Self employed</td>\n",
              "    </tr>\n",
              "    <tr>\n",
              "      <th>23523</th>\n",
              "      <td>Uganda</td>\n",
              "      <td>2018</td>\n",
              "      <td>uniqueid_2117</td>\n",
              "      <td>No</td>\n",
              "      <td>Rural</td>\n",
              "      <td>Yes</td>\n",
              "      <td>10.0</td>\n",
              "      <td>20.0</td>\n",
              "      <td>Male</td>\n",
              "      <td>Child</td>\n",
              "      <td>Single/Never Married</td>\n",
              "      <td>Secondary education</td>\n",
              "      <td>No Income</td>\n",
              "    </tr>\n",
              "  </tbody>\n",
              "</table>\n",
              "</div>"
            ],
            "text/plain": [
              "      country  year  ...  Level of Educuation    Type of Job\n",
              "23519  Uganda  2018  ...  No formal education   Other Income\n",
              "23520  Uganda  2018  ...  Secondary education   Other Income\n",
              "23521  Uganda  2018  ...    Primary education   Other Income\n",
              "23522  Uganda  2018  ...  Secondary education  Self employed\n",
              "23523  Uganda  2018  ...  Secondary education      No Income\n",
              "\n",
              "[5 rows x 13 columns]"
            ]
          },
          "metadata": {
            "tags": []
          },
          "execution_count": 12
        }
      ]
    },
    {
      "cell_type": "code",
      "metadata": {
        "id": "CWY7mmn2R3oo",
        "colab_type": "code",
        "colab": {
          "base_uri": "https://localhost:8080/",
          "height": 353
        },
        "outputId": "b18c3df2-dd34-4654-902b-c4ef40e14fca"
      },
      "source": [
        "# Checking whether each column has an appropriate datatype\n",
        "#\n",
        "df.info()"
      ],
      "execution_count": null,
      "outputs": [
        {
          "output_type": "stream",
          "text": [
            "<class 'pandas.core.frame.DataFrame'>\n",
            "RangeIndex: 23524 entries, 0 to 23523\n",
            "Data columns (total 13 columns):\n",
            " #   Column                  Non-Null Count  Dtype  \n",
            "---  ------                  --------------  -----  \n",
            " 0   country                 23510 non-null  object \n",
            " 1   year                    23524 non-null  int64  \n",
            " 2   uniqueid                23524 non-null  object \n",
            " 3   Has a Bank account      23488 non-null  object \n",
            " 4   Type of Location        23509 non-null  object \n",
            " 5   Cell Phone Access       23513 non-null  object \n",
            " 6   household_size          23496 non-null  float64\n",
            " 7   Respondent Age          23490 non-null  float64\n",
            " 8   gender_of_respondent    23490 non-null  object \n",
            " 9   The relathip with head  23520 non-null  object \n",
            " 10  marital_status          23492 non-null  object \n",
            " 11  Level of Educuation     23495 non-null  object \n",
            " 12  Type of Job             23494 non-null  object \n",
            "dtypes: float64(2), int64(1), object(10)\n",
            "memory usage: 2.3+ MB\n"
          ],
          "name": "stdout"
        }
      ]
    },
    {
      "cell_type": "code",
      "metadata": {
        "id": "wQdcSuvfkFR4",
        "colab_type": "code",
        "colab": {
          "base_uri": "https://localhost:8080/",
          "height": 284
        },
        "outputId": "f4c854c2-8309-41c5-acc6-d670928cfe40"
      },
      "source": [
        "# Checking dataset details\n",
        "#\n",
        "df.describe()\n",
        "\n",
        "#the mean household size is 3.68 and the mean age of the population is 38.8 years"
      ],
      "execution_count": null,
      "outputs": [
        {
          "output_type": "execute_result",
          "data": {
            "text/html": [
              "<div>\n",
              "<style scoped>\n",
              "    .dataframe tbody tr th:only-of-type {\n",
              "        vertical-align: middle;\n",
              "    }\n",
              "\n",
              "    .dataframe tbody tr th {\n",
              "        vertical-align: top;\n",
              "    }\n",
              "\n",
              "    .dataframe thead th {\n",
              "        text-align: right;\n",
              "    }\n",
              "</style>\n",
              "<table border=\"1\" class=\"dataframe\">\n",
              "  <thead>\n",
              "    <tr style=\"text-align: right;\">\n",
              "      <th></th>\n",
              "      <th>year</th>\n",
              "      <th>household_size</th>\n",
              "      <th>Respondent Age</th>\n",
              "    </tr>\n",
              "  </thead>\n",
              "  <tbody>\n",
              "    <tr>\n",
              "      <th>count</th>\n",
              "      <td>23524.000000</td>\n",
              "      <td>23496.000000</td>\n",
              "      <td>23490.000000</td>\n",
              "    </tr>\n",
              "    <tr>\n",
              "      <th>mean</th>\n",
              "      <td>2016.979000</td>\n",
              "      <td>3.681818</td>\n",
              "      <td>38.804300</td>\n",
              "    </tr>\n",
              "    <tr>\n",
              "      <th>std</th>\n",
              "      <td>0.899669</td>\n",
              "      <td>2.279933</td>\n",
              "      <td>16.519996</td>\n",
              "    </tr>\n",
              "    <tr>\n",
              "      <th>min</th>\n",
              "      <td>2016.000000</td>\n",
              "      <td>0.000000</td>\n",
              "      <td>16.000000</td>\n",
              "    </tr>\n",
              "    <tr>\n",
              "      <th>25%</th>\n",
              "      <td>2016.000000</td>\n",
              "      <td>2.000000</td>\n",
              "      <td>26.000000</td>\n",
              "    </tr>\n",
              "    <tr>\n",
              "      <th>50%</th>\n",
              "      <td>2017.000000</td>\n",
              "      <td>3.000000</td>\n",
              "      <td>35.000000</td>\n",
              "    </tr>\n",
              "    <tr>\n",
              "      <th>75%</th>\n",
              "      <td>2018.000000</td>\n",
              "      <td>5.000000</td>\n",
              "      <td>49.000000</td>\n",
              "    </tr>\n",
              "    <tr>\n",
              "      <th>max</th>\n",
              "      <td>2056.000000</td>\n",
              "      <td>21.000000</td>\n",
              "      <td>100.000000</td>\n",
              "    </tr>\n",
              "  </tbody>\n",
              "</table>\n",
              "</div>"
            ],
            "text/plain": [
              "               year  household_size  Respondent Age\n",
              "count  23524.000000    23496.000000    23490.000000\n",
              "mean    2016.979000        3.681818       38.804300\n",
              "std        0.899669        2.279933       16.519996\n",
              "min     2016.000000        0.000000       16.000000\n",
              "25%     2016.000000        2.000000       26.000000\n",
              "50%     2017.000000        3.000000       35.000000\n",
              "75%     2018.000000        5.000000       49.000000\n",
              "max     2056.000000       21.000000      100.000000"
            ]
          },
          "metadata": {
            "tags": []
          },
          "execution_count": 7
        }
      ]
    },
    {
      "cell_type": "code",
      "metadata": {
        "id": "74Hr2JkIkMt_",
        "colab_type": "code",
        "colab": {
          "base_uri": "https://localhost:8080/",
          "height": 235
        },
        "outputId": "e190e62c-ea7c-42a6-aa97-311d50a195fd"
      },
      "source": [
        "# Checking for null values\n",
        "#\n",
        "df.isnull().sum().sort_values(ascending=False)"
      ],
      "execution_count": null,
      "outputs": [
        {
          "output_type": "execute_result",
          "data": {
            "text/plain": [
              "Has a Bank account        36\n",
              "gender_of_respondent      34\n",
              "Respondent Age            34\n",
              "marital_status            32\n",
              "Type of Job               30\n",
              "Level of Educuation       29\n",
              "household_size            28\n",
              "Type of Location          15\n",
              "country                   14\n",
              "Cell Phone Access         11\n",
              "The relathip with head     4\n",
              "year                       0\n",
              "dtype: int64"
            ]
          },
          "metadata": {
            "tags": []
          },
          "execution_count": 8
        }
      ]
    },
    {
      "cell_type": "code",
      "metadata": {
        "id": "NmlXmSO-UK_w",
        "colab_type": "code",
        "colab": {
          "base_uri": "https://localhost:8080/",
          "height": 50
        },
        "outputId": "d1e07c14-2be3-42ae-8f5e-6f871488a7fb"
      },
      "source": [
        "df.duplicated().value_counts()"
      ],
      "execution_count": null,
      "outputs": [
        {
          "output_type": "execute_result",
          "data": {
            "text/plain": [
              "False    23524\n",
              "dtype: int64"
            ]
          },
          "metadata": {
            "tags": []
          },
          "execution_count": 14
        }
      ]
    },
    {
      "cell_type": "markdown",
      "metadata": {
        "id": "SAi7OnE_Ws9N",
        "colab_type": "text"
      },
      "source": [
        "##4. EXTERNAL DATA VALIDATION"
      ]
    },
    {
      "cell_type": "markdown",
      "metadata": {
        "id": "YuroGj27toVP",
        "colab_type": "text"
      },
      "source": [
        "Making sure your data matches something outside of the dataset is very important. It allows you to ensure that the measurements are roughly in line with what they should be and it serves as a check on what other things might be wrong in your dataset. External validation can often be as simple as checking your data against a single number, as we will do here.Link: https://www.financedigitalafrica.org/2018/03/19/can-big-data-shape-financial-services-in-east-africa/"
      ]
    },
    {
      "cell_type": "markdown",
      "metadata": {
        "id": "dE8MDhQRW1Bp",
        "colab_type": "text"
      },
      "source": [
        "##5. TIDYING UP THE DATA SET"
      ]
    },
    {
      "cell_type": "code",
      "metadata": {
        "id": "0vTm1oGMaYtW",
        "colab_type": "code",
        "colab": {
          "base_uri": "https://localhost:8080/",
          "height": 336
        },
        "outputId": "2b26fd3e-78cb-4ef7-c947-d01bae0af086"
      },
      "source": [
        "#Finding how many outliers are there in the dataset\n",
        "Q1 = df.quantile(0.25)\n",
        "Q3 = df.quantile(0.75)\n",
        "IQR = Q3 - Q1\n",
        "print(IQR)\n",
        "print(\"*\"*100)\n",
        "#(df < (Q1 - 1.5 * IQR)) |(df > (Q3 + 1.5 * IQR))\n",
        "print(((df < (Q1 - 1.5 * IQR)) | (df > (Q3 + 1.5 * IQR))).sum().sort_values(ascending=False))\n",
        "\n",
        "##The IQR range for year is 2 years with a total of 3 years being outliers.\n",
        "##The IQR range for household size is 3 with a total of 377 respondents being outliers.\n",
        "##The IQR range for respondemts age is 241 years with a total of 3 years being outliers."
      ],
      "execution_count": null,
      "outputs": [
        {
          "output_type": "stream",
          "text": [
            "year               2.0\n",
            "household_size     3.0\n",
            "Respondent Age    23.0\n",
            "dtype: float64\n",
            "****************************************************************************************************\n",
            "household_size            377\n",
            "Respondent Age            241\n",
            "year                        3\n",
            "uniqueid                    0\n",
            "marital_status              0\n",
            "gender_of_respondent        0\n",
            "country                     0\n",
            "Type of Location            0\n",
            "Type of Job                 0\n",
            "The relathip with head      0\n",
            "Level of Educuation         0\n",
            "Has a Bank account          0\n",
            "Cell Phone Access           0\n",
            "dtype: int64\n"
          ],
          "name": "stdout"
        }
      ]
    },
    {
      "cell_type": "code",
      "metadata": {
        "id": "Whq5l-ANa6SP",
        "colab_type": "code",
        "colab": {}
      },
      "source": [
        "#Finding outliers in the household_size column\n",
        "outliers=[]\n",
        "\n",
        "def detect_outlier(df):\n",
        "    \n",
        "    threshold=3\n",
        "    mean_1 = np.mean(df)\n",
        "    std_1 =np.std(df)\n",
        "    \n",
        "    for y in df:\n",
        "        z_score= (y - mean_1)/std_1 \n",
        "        if np.abs(z_score) > threshold:\n",
        "            outliers.append(y)\n",
        "    return outliers\n",
        "\n",
        "detect_outlier(df['household_size'])"
      ],
      "execution_count": null,
      "outputs": []
    },
    {
      "cell_type": "code",
      "metadata": {
        "id": "U1nZ3P3Qbv6E",
        "colab_type": "code",
        "colab": {}
      },
      "source": [
        "#Finding outliers in the Respondent Age  column\n",
        "outliers=[]\n",
        "\n",
        "def detect_outlier(df):\n",
        "    \n",
        "    threshold=3\n",
        "    mean_1 = np.mean(df)\n",
        "    std_1 =np.std(df)\n",
        "    \n",
        "    for y in df:\n",
        "        z_score= (y - mean_1)/std_1 \n",
        "        if np.abs(z_score) > threshold:\n",
        "            outliers.append(y)\n",
        "    return outliers\n",
        "\n",
        "detect_outlier(df['Respondent Age'])"
      ],
      "execution_count": null,
      "outputs": []
    },
    {
      "cell_type": "code",
      "metadata": {
        "id": "YrqLTRADZkYu",
        "colab_type": "code",
        "colab": {
          "base_uri": "https://localhost:8080/",
          "height": 34
        },
        "outputId": "3531ba97-c05a-46a0-c907-2fe3e6642a88"
      },
      "source": [
        "#Finding outliers in the year column\n",
        "outliers=[]\n",
        "\n",
        "def detect_outlier(df):\n",
        "    \n",
        "    threshold=3\n",
        "    mean_1 = np.mean(df)\n",
        "    std_1 =np.std(df)\n",
        "    \n",
        "    for y in df:\n",
        "        z_score= (y - mean_1)/std_1 \n",
        "        if np.abs(z_score) > threshold:\n",
        "            outliers.append(y)\n",
        "    return outliers\n",
        "\n",
        "detect_outlier(df['year'])"
      ],
      "execution_count": null,
      "outputs": [
        {
          "output_type": "execute_result",
          "data": {
            "text/plain": [
              "[2029, 2056, 2039]"
            ]
          },
          "metadata": {
            "tags": []
          },
          "execution_count": 11
        }
      ]
    },
    {
      "cell_type": "code",
      "metadata": {
        "id": "NQpCMpv1Zm_l",
        "colab_type": "code",
        "colab": {
          "base_uri": "https://localhost:8080/",
          "height": 34
        },
        "outputId": "e34ee8bc-7938-430d-af18-3f52f4e914f0"
      },
      "source": [
        "#Removing the outliers in the dataset\n",
        "df_out = df[~((df < (Q1 - 1.5 * IQR)) | (df > (Q3 + 1.5 * IQR))).any(axis=1)]\n",
        "df_out.shape\n"
      ],
      "execution_count": null,
      "outputs": [
        {
          "output_type": "execute_result",
          "data": {
            "text/plain": [
              "(22903, 13)"
            ]
          },
          "metadata": {
            "tags": []
          },
          "execution_count": 21
        }
      ]
    },
    {
      "cell_type": "code",
      "metadata": {
        "id": "Ld6GADyse4wn",
        "colab_type": "code",
        "colab": {
          "base_uri": "https://localhost:8080/",
          "height": 252
        },
        "outputId": "83c6248a-1255-4348-a616-459d5ae239d4"
      },
      "source": [
        "#Finding null values\n",
        "df_out.isnull().sum().sort_values(ascending=False)"
      ],
      "execution_count": null,
      "outputs": [
        {
          "output_type": "execute_result",
          "data": {
            "text/plain": [
              "Has a Bank account        36\n",
              "gender_of_respondent      33\n",
              "Respondent Age            33\n",
              "marital_status            31\n",
              "Type of Job               30\n",
              "Level of Educuation       29\n",
              "household_size            27\n",
              "Type of Location          15\n",
              "country                   14\n",
              "Cell Phone Access         11\n",
              "The relathip with head     4\n",
              "uniqueid                   0\n",
              "year                       0\n",
              "dtype: int64"
            ]
          },
          "metadata": {
            "tags": []
          },
          "execution_count": 22
        }
      ]
    },
    {
      "cell_type": "code",
      "metadata": {
        "id": "KB7uaSRbfElT",
        "colab_type": "code",
        "colab": {
          "base_uri": "https://localhost:8080/",
          "height": 34
        },
        "outputId": "79ce2c39-2d04-4170-b022-87c6f274dc66"
      },
      "source": [
        "#Filling the null values\n",
        "df1=df_out.ffill(axis=0)\n",
        "df1.shape"
      ],
      "execution_count": null,
      "outputs": [
        {
          "output_type": "execute_result",
          "data": {
            "text/plain": [
              "(22903, 13)"
            ]
          },
          "metadata": {
            "tags": []
          },
          "execution_count": 51
        }
      ]
    },
    {
      "cell_type": "markdown",
      "metadata": {
        "id": "iF2A6zNmlfk_",
        "colab_type": "text"
      },
      "source": [
        "## 4. DATA ANALYSIS"
      ]
    },
    {
      "cell_type": "markdown",
      "metadata": {
        "id": "OH1o9RyhM2p8",
        "colab_type": "text"
      },
      "source": [
        "###a. UNIVARIATE ANALYSIS"
      ]
    },
    {
      "cell_type": "code",
      "metadata": {
        "id": "hOEPZ6rBNZYa",
        "colab_type": "code",
        "colab": {
          "base_uri": "https://localhost:8080/",
          "height": 84
        },
        "outputId": "149fa3ce-b44d-4baf-c74e-548ffa8c2f98"
      },
      "source": [
        "#central tendency of age\n",
        "print(df1['Respondent Age'].mean())\n",
        "print(df1['Respondent Age'].mode())\n",
        "print(df1['Respondent Age'].median())\n"
      ],
      "execution_count": null,
      "outputs": [
        {
          "output_type": "stream",
          "text": [
            "38.337554032222855\n",
            "0    30.0\n",
            "dtype: float64\n",
            "35.0\n"
          ],
          "name": "stdout"
        }
      ]
    },
    {
      "cell_type": "code",
      "metadata": {
        "id": "78uZejWdO0nv",
        "colab_type": "code",
        "colab": {
          "base_uri": "https://localhost:8080/",
          "height": 84
        },
        "outputId": "e27037c8-e1b0-47c5-b2dd-4a13b17d4581"
      },
      "source": [
        "#measures of dispersion of age\n",
        "print(df1['Respondent Age'].std())\n",
        "print(df1['Respondent Age'].var())\n",
        "\n",
        "print(df1['Respondent Age'].skew())\n",
        "print(df1['Respondent Age'].kurt())\n",
        "\n",
        "#The graph for age of respodents is left skewed and flat peaked."
      ],
      "execution_count": null,
      "outputs": [
        {
          "output_type": "stream",
          "text": [
            "15.801188411812745\n",
            "249.67755522560537\n",
            "0.7411870091957976\n",
            "-0.2359816624341824\n"
          ],
          "name": "stdout"
        }
      ]
    },
    {
      "cell_type": "code",
      "metadata": {
        "id": "t1A1A37KO6QU",
        "colab_type": "code",
        "colab": {
          "base_uri": "https://localhost:8080/",
          "height": 84
        },
        "outputId": "87e934b2-35a7-41e8-9363-3b31f315cedd"
      },
      "source": [
        "#central tendency of household size\n",
        "print(df1['household_size'].mean())\n",
        "print(df1['household_size'].mode())\n",
        "print(df1['household_size'].median())"
      ],
      "execution_count": null,
      "outputs": [
        {
          "output_type": "stream",
          "text": [
            "3.5718901453957996\n",
            "0    2.0\n",
            "dtype: float64\n",
            "3.0\n"
          ],
          "name": "stdout"
        }
      ]
    },
    {
      "cell_type": "code",
      "metadata": {
        "id": "oN5R4CXMPDvO",
        "colab_type": "code",
        "colab": {
          "base_uri": "https://localhost:8080/",
          "height": 84
        },
        "outputId": "70fbb63d-a684-4875-d9ab-d081f41bf66e"
      },
      "source": [
        "#measures of dispersion of household size\n",
        "print(df1['household_size'].std())\n",
        "print(df1['household_size'].var())\n",
        "\n",
        "print(df1['household_size'].skew())\n",
        "print(df1['household_size'].kurt())\n",
        "#The graph for household size of respodents is left skewed and flat peaked."
      ],
      "execution_count": null,
      "outputs": [
        {
          "output_type": "stream",
          "text": [
            "2.079245920039249\n",
            "4.3232635959998635\n",
            "0.6120410644272279\n",
            "-0.4972744338000443\n"
          ],
          "name": "stdout"
        }
      ]
    },
    {
      "cell_type": "code",
      "metadata": {
        "id": "RtMI0qc4oRR7",
        "colab_type": "code",
        "colab": {
          "base_uri": "https://localhost:8080/",
          "height": 84
        },
        "outputId": "1f81b21b-7109-4dd8-9ab4-8caad9eecb69"
      },
      "source": [
        "df1.year.value_counts()"
      ],
      "execution_count": null,
      "outputs": [
        {
          "output_type": "execute_result",
          "data": {
            "text/plain": [
              "2016    8562\n",
              "2018    7798\n",
              "2017    6543\n",
              "Name: year, dtype: int64"
            ]
          },
          "metadata": {
            "tags": []
          },
          "execution_count": 88
        }
      ]
    },
    {
      "cell_type": "code",
      "metadata": {
        "id": "fdq1_vYxkpgu",
        "colab_type": "code",
        "colab": {
          "base_uri": "https://localhost:8080/",
          "height": 328
        },
        "outputId": "e7f46a29-34b2-459d-fd7c-11a0380a0088"
      },
      "source": [
        "#Which year did most responents participate in the survey?\n",
        "df1['year'].value_counts().head().plot.bar()\n",
        "plt.xlabel(\"Year\")\n",
        "plt.ylabel(\"Number of people\")\n",
        "plt.title(\"Number of people who participated in survey each year\")"
      ],
      "execution_count": null,
      "outputs": [
        {
          "output_type": "execute_result",
          "data": {
            "text/plain": [
              "Text(0.5, 1.0, 'Number of people who participated in survey each year')"
            ]
          },
          "metadata": {
            "tags": []
          },
          "execution_count": 52
        },
        {
          "output_type": "display_data",
          "data": {
            "image/png": "[encoded data removed]",
            "text/plain": [
              "<Figure size 432x288 with 1 Axes>"
            ]
          },
          "metadata": {
            "tags": [],
            "needs_background": "light"
          }
        }
      ]
    },
    {
      "cell_type": "code",
      "metadata": {
        "id": "JraLta8dmeF7",
        "colab_type": "code",
        "colab": {
          "base_uri": "https://localhost:8080/",
          "height": 328
        },
        "outputId": "aa76d0f0-d463-48ce-8e15-180f4152e000"
      },
      "source": [
        "#Percentage of people who participated in survey each year\n",
        "(df1['year'].value_counts().head(10) / len(df1)).plot.bar()\n",
        "plt.xlabel(\"Year\")\n",
        "plt.ylabel(\"Number of people\")\n",
        "plt.title(\"Percentage of people who participated in survey each year\")"
      ],
      "execution_count": null,
      "outputs": [
        {
          "output_type": "execute_result",
          "data": {
            "text/plain": [
              "Text(0.5, 1.0, 'Percentage of people who participated in survey each year')"
            ]
          },
          "metadata": {
            "tags": []
          },
          "execution_count": 53
        },
        {
          "output_type": "display_data",
          "data": {
            "image/png": "[encoded data removed]",
            "text/plain": [
              "<Figure size 432x288 with 1 Axes>"
            ]
          },
          "metadata": {
            "tags": [],
            "needs_background": "light"
          }
        }
      ]
    },
    {
      "cell_type": "code",
      "metadata": {
        "id": "havK1EXYoqgq",
        "colab_type": "code",
        "colab": {
          "base_uri": "https://localhost:8080/",
          "height": 101
        },
        "outputId": "27b8da4a-e33e-48f6-a1dd-3e32b85bf685"
      },
      "source": [
        "df1.country.value_counts()"
      ],
      "execution_count": null,
      "outputs": [
        {
          "output_type": "execute_result",
          "data": {
            "text/plain": [
              "Rwanda      8562\n",
              "Tanzania    6543\n",
              "Kenya       5871\n",
              "Uganda      1927\n",
              "Name: country, dtype: int64"
            ]
          },
          "metadata": {
            "tags": []
          },
          "execution_count": 90
        }
      ]
    },
    {
      "cell_type": "code",
      "metadata": {
        "id": "RzlVr4rsV26R",
        "colab_type": "code",
        "colab": {
          "base_uri": "https://localhost:8080/",
          "height": 346
        },
        "outputId": "150d2684-507a-417d-d600-f28e77d04278"
      },
      "source": [
        "#Number of people who participated in survey each country\n",
        "df1['country'].value_counts().head().plot.bar()\n",
        "plt.xlabel(\"country\")\n",
        "plt.ylabel(\"Number of people\")\n",
        "plt.title(\"Number of people who participated in survey each country\")"
      ],
      "execution_count": null,
      "outputs": [
        {
          "output_type": "execute_result",
          "data": {
            "text/plain": [
              "Text(0.5, 1.0, 'Number of people who participated in survey each country')"
            ]
          },
          "metadata": {
            "tags": []
          },
          "execution_count": 54
        },
        {
          "output_type": "display_data",
          "data": {
            "image/png": "[encoded data removed]",
            "text/plain": [
              "<Figure size 432x288 with 1 Axes>"
            ]
          },
          "metadata": {
            "tags": [],
            "needs_background": "light"
          }
        }
      ]
    },
    {
      "cell_type": "code",
      "metadata": {
        "id": "ND0AYUmyWuhx",
        "colab_type": "code",
        "colab": {
          "base_uri": "https://localhost:8080/",
          "height": 346
        },
        "outputId": "279d395e-6b7b-4a5c-e7d2-034926b7a38f"
      },
      "source": [
        "#Number of people who participated in survey each country\n",
        "\n",
        "(df1['country'].value_counts().head(10) / len(df1)).plot.bar()\n",
        "plt.xlabel(\"country\")\n",
        "plt.ylabel(\"Number of people\")\n",
        "plt.title(\"Number of people who participated in survey each country\")"
      ],
      "execution_count": null,
      "outputs": [
        {
          "output_type": "execute_result",
          "data": {
            "text/plain": [
              "Text(0.5, 1.0, 'Number of people who participated in survey each country')"
            ]
          },
          "metadata": {
            "tags": []
          },
          "execution_count": 55
        },
        {
          "output_type": "display_data",
          "data": {
            "image/png": "[encoded data removed]",
            "text/plain": [
              "<Figure size 432x288 with 1 Axes>"
            ]
          },
          "metadata": {
            "tags": [],
            "needs_background": "light"
          }
        }
      ]
    },
    {
      "cell_type": "code",
      "metadata": {
        "id": "hfYrnMXZRNlw",
        "colab_type": "code",
        "colab": {
          "base_uri": "https://localhost:8080/",
          "height": 303
        },
        "outputId": "dd7e6564-47ca-4e31-9759-2efb61c507f4"
      },
      "source": [
        "#Type of location participants came from.\n",
        "df1[\"Type of Location\"].value_counts().head().plot.bar()"
      ],
      "execution_count": null,
      "outputs": [
        {
          "output_type": "execute_result",
          "data": {
            "text/plain": [
              "<matplotlib.axes._subplots.AxesSubplot at 0x7fd95e4e4fd0>"
            ]
          },
          "metadata": {
            "tags": []
          },
          "execution_count": 92
        },
        {
          "output_type": "display_data",
          "data": {
            "image/png": "[encoded data removed]",
            "text/plain": [
              "<Figure size 432x288 with 1 Axes>"
            ]
          },
          "metadata": {
            "tags": [],
            "needs_background": "light"
          }
        }
      ]
    },
    {
      "cell_type": "code",
      "metadata": {
        "id": "CscHZsUyqy_1",
        "colab_type": "code",
        "colab": {
          "base_uri": "https://localhost:8080/",
          "height": 67
        },
        "outputId": "c2f59845-6e2c-4581-ceef-19a7de408ed8"
      },
      "source": [
        "df1.gender_of_respondent.value_counts()"
      ],
      "execution_count": null,
      "outputs": [
        {
          "output_type": "execute_result",
          "data": {
            "text/plain": [
              "Female    13504\n",
              "Male       9399\n",
              "Name: gender_of_respondent, dtype: int64"
            ]
          },
          "metadata": {
            "tags": []
          },
          "execution_count": 93
        }
      ]
    },
    {
      "cell_type": "code",
      "metadata": {
        "id": "HZ0YtZ1MRhdb",
        "colab_type": "code",
        "colab": {
          "base_uri": "https://localhost:8080/",
          "height": 310
        },
        "outputId": "a7996aae-2b9a-4641-c3aa-da6ac17e4930"
      },
      "source": [
        "#The distribution of the gender of the respodents\n",
        "df1[\"gender_of_respondent\"].value_counts().head().plot.bar()"
      ],
      "execution_count": null,
      "outputs": [
        {
          "output_type": "execute_result",
          "data": {
            "text/plain": [
              "<matplotlib.axes._subplots.AxesSubplot at 0x7fd95dc9e588>"
            ]
          },
          "metadata": {
            "tags": []
          },
          "execution_count": 57
        },
        {
          "output_type": "display_data",
          "data": {
            "image/png": "[encoded data removed]",
            "text/plain": [
              "<Figure size 432x288 with 1 Axes>"
            ]
          },
          "metadata": {
            "tags": [],
            "needs_background": "light"
          }
        }
      ]
    },
    {
      "cell_type": "code",
      "metadata": {
        "id": "i4xdKvWRP8rd",
        "colab_type": "code",
        "colab": {
          "base_uri": "https://localhost:8080/",
          "height": 297
        },
        "outputId": "956073dd-5569-4578-ef8d-ff60167b24ea"
      },
      "source": [
        "sns.boxplot(df1[\"household_size\"], showmeans=True)"
      ],
      "execution_count": null,
      "outputs": [
        {
          "output_type": "execute_result",
          "data": {
            "text/plain": [
              "<matplotlib.axes._subplots.AxesSubplot at 0x7fd95d4db860>"
            ]
          },
          "metadata": {
            "tags": []
          },
          "execution_count": 58
        },
        {
          "output_type": "display_data",
          "data": {
            "image/png": "[encoded data removed]",
            "text/plain": [
              "<Figure size 432x288 with 1 Axes>"
            ]
          },
          "metadata": {
            "tags": [],
            "needs_background": "light"
          }
        }
      ]
    },
    {
      "cell_type": "code",
      "metadata": {
        "id": "P9asX5eMlfBw",
        "colab_type": "code",
        "colab": {
          "base_uri": "https://localhost:8080/",
          "height": 314
        },
        "outputId": "5be29481-a255-4011-ce8a-9d9f5152da4c"
      },
      "source": [
        "#How many people have a bank account?\n",
        "print(df1['Has a Bank account'].value_counts())\n",
        "df1[\"Has a Bank account\"].value_counts()\n",
        "df1[\"Has a Bank account\"].value_counts().head().plot.pie()\n",
        "\n",
        "plt.axis('equal')\n",
        "plt.title('Pie Chart of Has a Bank account')\n",
        "plt.show()"
      ],
      "execution_count": 208,
      "outputs": [
        {
          "output_type": "stream",
          "text": [
            "No     19640\n",
            "Yes     3263\n",
            "Name: Has a Bank account, dtype: int64\n"
          ],
          "name": "stdout"
        },
        {
          "output_type": "display_data",
          "data": {
            "image/png": "[encoded data removed]",
            "text/plain": [
              "<Figure size 432x288 with 1 Axes>"
            ]
          },
          "metadata": {
            "tags": []
          }
        }
      ]
    },
    {
      "cell_type": "code",
      "metadata": {
        "id": "rUTGa-oZQDZJ",
        "colab_type": "code",
        "colab": {
          "base_uri": "https://localhost:8080/",
          "height": 296
        },
        "outputId": "9aeac88c-19f3-4443-8daa-58927779bc44"
      },
      "source": [
        "sns.boxplot(df1[\"Respondent Age\"], showmeans=True)"
      ],
      "execution_count": null,
      "outputs": [
        {
          "output_type": "execute_result",
          "data": {
            "text/plain": [
              "<matplotlib.axes._subplots.AxesSubplot at 0x7fd95d368588>"
            ]
          },
          "metadata": {
            "tags": []
          },
          "execution_count": 61
        },
        {
          "output_type": "display_data",
          "data": {
            "image/png": "[encoded data removed]",
            "text/plain": [
              "<Figure size 432x288 with 1 Axes>"
            ]
          },
          "metadata": {
            "tags": [],
            "needs_background": "light"
          }
        }
      ]
    },
    {
      "cell_type": "code",
      "metadata": {
        "id": "IhNj-FgbQX5k",
        "colab_type": "code",
        "colab": {
          "base_uri": "https://localhost:8080/",
          "height": 296
        },
        "outputId": "9654028f-5940-4bfb-f307-794872a2b71f"
      },
      "source": [
        "#df1['Respondent Age'].hist()\n",
        "sns.distplot(df1['Respondent Age'],hist=True,rug=True,bins=10)"
      ],
      "execution_count": null,
      "outputs": [
        {
          "output_type": "execute_result",
          "data": {
            "text/plain": [
              "<matplotlib.axes._subplots.AxesSubplot at 0x7fd95d24d4a8>"
            ]
          },
          "metadata": {
            "tags": []
          },
          "execution_count": 73
        },
        {
          "output_type": "display_data",
          "data": {
            "image/png": "[encoded data removed]",
            "text/plain": [
              "<Figure size 432x288 with 1 Axes>"
            ]
          },
          "metadata": {
            "tags": [],
            "needs_background": "light"
          }
        }
      ]
    },
    {
      "cell_type": "code",
      "metadata": {
        "id": "tc7j2-NHQe0T",
        "colab_type": "code",
        "colab": {
          "base_uri": "https://localhost:8080/",
          "height": 295
        },
        "outputId": "aa118c94-3be4-4095-adb6-19528292b92c"
      },
      "source": [
        "#df1['household_size'].hist()\n",
        "plt.hist(df1['household_size'], bins=10, histtype='bar', rwidth=0.9)\n",
        "\n",
        "plt.xlabel('x')\n",
        "plt.ylabel('y')\n",
        "plt.title('Histogram of Population') \n",
        "plt.show()"
      ],
      "execution_count": null,
      "outputs": [
        {
          "output_type": "display_data",
          "data": {
            "image/png": "[encoded data removed]",
            "text/plain": [
              "<Figure size 432x288 with 1 Axes>"
            ]
          },
          "metadata": {
            "tags": [],
            "needs_background": "light"
          }
        }
      ]
    },
    {
      "cell_type": "code",
      "metadata": {
        "id": "tpQ4GfFzQ-c-",
        "colab_type": "code",
        "colab": {
          "base_uri": "https://localhost:8080/",
          "height": 265
        },
        "outputId": "06ec2f6c-f10e-4bd1-c99f-4eaa00ea0246"
      },
      "source": [
        "df1[\"Cell Phone Access\"].value_counts().head().plot.pie()"
      ],
      "execution_count": null,
      "outputs": [
        {
          "output_type": "execute_result",
          "data": {
            "text/plain": [
              "<matplotlib.axes._subplots.AxesSubplot at 0x7fd95d23f668>"
            ]
          },
          "metadata": {
            "tags": []
          },
          "execution_count": 72
        },
        {
          "output_type": "display_data",
          "data": {
            "image/png": "[encoded data removed]",
            "text/plain": [
              "<Figure size 432x288 with 1 Axes>"
            ]
          },
          "metadata": {
            "tags": []
          }
        }
      ]
    },
    {
      "cell_type": "code",
      "metadata": {
        "id": "RTRGT25_siWp",
        "colab_type": "code",
        "colab": {
          "base_uri": "https://localhost:8080/",
          "height": 118
        },
        "outputId": "cb8f0d91-99b4-44a3-c7c0-25550e7640c6"
      },
      "source": [
        "df1.marital_status.value_counts()"
      ],
      "execution_count": null,
      "outputs": [
        {
          "output_type": "execute_result",
          "data": {
            "text/plain": [
              "Married/Living together    10469\n",
              "Single/Never Married        7833\n",
              "Widowed                     2528\n",
              "Divorced/Seperated          2065\n",
              "Dont know                      8\n",
              "Name: marital_status, dtype: int64"
            ]
          },
          "metadata": {
            "tags": []
          },
          "execution_count": 94
        }
      ]
    },
    {
      "cell_type": "code",
      "metadata": {
        "id": "6pVyqJIivbJx",
        "colab_type": "code",
        "colab": {
          "base_uri": "https://localhost:8080/",
          "height": 134
        },
        "outputId": "e33c50d8-ec5c-4f41-8cc7-7585959fb7f5"
      },
      "source": [
        "df1['The relathip with head'].value_counts()"
      ],
      "execution_count": null,
      "outputs": [
        {
          "output_type": "execute_result",
          "data": {
            "text/plain": [
              "Head of Household      12503\n",
              "Spouse                  6407\n",
              "Child                   2139\n",
              "Parent                  1028\n",
              "Other relative           645\n",
              "Other non-relatives      181\n",
              "Name: The relathip with head, dtype: int64"
            ]
          },
          "metadata": {
            "tags": []
          },
          "execution_count": 97
        }
      ]
    },
    {
      "cell_type": "code",
      "metadata": {
        "id": "2PuQWmluvbGY",
        "colab_type": "code",
        "colab": {
          "base_uri": "https://localhost:8080/",
          "height": 202
        },
        "outputId": "cba942c5-984a-4355-abcd-abba28902514"
      },
      "source": [
        "df1['Type of Job'].value_counts()"
      ],
      "execution_count": null,
      "outputs": [
        {
          "output_type": "execute_result",
          "data": {
            "text/plain": [
              "Self employed                   6284\n",
              "Informally employed             5527\n",
              "Farming and Fishing             5315\n",
              "Remittance Dependent            2389\n",
              "Formally employed Private       1042\n",
              "Other Income                    1029\n",
              "No Income                        594\n",
              "Formally employed Government     383\n",
              "Government Dependent             221\n",
              "Dont Know/Refuse to answer       119\n",
              "Name: Type of Job, dtype: int64"
            ]
          },
          "metadata": {
            "tags": []
          },
          "execution_count": 98
        }
      ]
    },
    {
      "cell_type": "code",
      "metadata": {
        "id": "adLFN9fLwuHk",
        "colab_type": "code",
        "colab": {
          "base_uri": "https://localhost:8080/",
          "height": 151
        },
        "outputId": "7ebf2e7b-6ddd-43ee-c437-dea0cb425b07"
      },
      "source": [
        "df1['Level of Educuation'].value_counts()"
      ],
      "execution_count": null,
      "outputs": [
        {
          "output_type": "execute_result",
          "data": {
            "text/plain": [
              "Primary education                  12535\n",
              "No formal education                 4291\n",
              "Secondary education                 4113\n",
              "Tertiary education                  1146\n",
              "Vocational/Specialised training      787\n",
              "6                                     25\n",
              "Other/Dont know/RTA                    6\n",
              "Name: Level of Educuation, dtype: int64"
            ]
          },
          "metadata": {
            "tags": []
          },
          "execution_count": 99
        }
      ]
    },
    {
      "cell_type": "markdown",
      "metadata": {
        "id": "Gn4J-RdDyRhV",
        "colab_type": "text"
      },
      "source": [
        "###Recommendations\n",
        "* Rwanda had most participants therefore it is likely that most of the people with a bank account are from Rwanda.\n",
        "* The mean, mode and median age are 38.3, 30 and 35 years and a standard deviation of 15 years therefore one can predict that most of the people with a bank account are aged 23-53 years.\n",
        "* MOst partciapnts did not have a cell bank account\n",
        "* Most participants were female. \n",
        "* Most of the participants were either married or single. Most of the participants were the head of the household. Most of the participants are either self employed,informally employed or into farming and fishing.\n",
        "Most of the participants(12535) in the survey had primary education. Most participants have access to a cell phone.\n",
        "* Therefore individuals from Rwanda aged 30-38 years, who are either married or single and are the head of their family and either fomally or self employed with access to cell phone are likely to have a bank account.\n",
        "\n"
      ]
    },
    {
      "cell_type": "markdown",
      "metadata": {
        "id": "utAEaxoPMTb1",
        "colab_type": "text"
      },
      "source": [
        "###b. Bivariate analysis"
      ]
    },
    {
      "cell_type": "code",
      "metadata": {
        "id": "Zkf56AbuZJ2-",
        "colab_type": "code",
        "colab": {
          "base_uri": "https://localhost:8080/",
          "height": 212
        },
        "outputId": "35023fe1-f913-485c-d4f4-45957705a375"
      },
      "source": [
        "df3=df1a\n",
        "from sklearn.preprocessing import LabelEncoder\n",
        "lb=LabelEncoder()\n",
        "df3['country']=lb.fit_transform(df3['country'])\n",
        "df3['Has a Bank account']=lb.fit_transform(df3['Has a Bank account'])\n",
        "df3['Type of Location']=lb.fit_transform(df3['Type of Location'])\n",
        "df3['Cell Phone Access']=lb.fit_transform(df3['Cell Phone Access'])\n",
        "df3['gender_of_respondent']=lb.fit_transform(df3['gender_of_respondent'])\n",
        "df3['The relathip with head']=lb.fit_transform(df3['The relathip with head'])\n",
        "df3['marital_status']=lb.fit_transform(df3['marital_status'])\n",
        "df3['Level of Educuation']=lb.fit_transform(df3['Level of Educuation'])\n",
        "df3['Type of Job']=lb.fit_transform(df3['Type of Job'])\n",
        "df3.head()"
      ],
      "execution_count": null,
      "outputs": [
        {
          "output_type": "execute_result",
          "data": {
            "text/html": [
              "<div>\n",
              "<style scoped>\n",
              "    .dataframe tbody tr th:only-of-type {\n",
              "        vertical-align: middle;\n",
              "    }\n",
              "\n",
              "    .dataframe tbody tr th {\n",
              "        vertical-align: top;\n",
              "    }\n",
              "\n",
              "    .dataframe thead th {\n",
              "        text-align: right;\n",
              "    }\n",
              "</style>\n",
              "<table border=\"1\" class=\"dataframe\">\n",
              "  <thead>\n",
              "    <tr style=\"text-align: right;\">\n",
              "      <th></th>\n",
              "      <th>country</th>\n",
              "      <th>year</th>\n",
              "      <th>Has a Bank account</th>\n",
              "      <th>Type of Location</th>\n",
              "      <th>Cell Phone Access</th>\n",
              "      <th>household_size</th>\n",
              "      <th>Respondent Age</th>\n",
              "      <th>gender_of_respondent</th>\n",
              "      <th>The relathip with head</th>\n",
              "      <th>marital_status</th>\n",
              "      <th>Level of Educuation</th>\n",
              "      <th>Type of Job</th>\n",
              "    </tr>\n",
              "  </thead>\n",
              "  <tbody>\n",
              "    <tr>\n",
              "      <th>0</th>\n",
              "      <td>0</td>\n",
              "      <td>2018</td>\n",
              "      <td>1</td>\n",
              "      <td>0</td>\n",
              "      <td>1</td>\n",
              "      <td>3.0</td>\n",
              "      <td>24.0</td>\n",
              "      <td>0</td>\n",
              "      <td>5</td>\n",
              "      <td>2</td>\n",
              "      <td>4</td>\n",
              "      <td>9</td>\n",
              "    </tr>\n",
              "    <tr>\n",
              "      <th>1</th>\n",
              "      <td>0</td>\n",
              "      <td>2018</td>\n",
              "      <td>0</td>\n",
              "      <td>0</td>\n",
              "      <td>0</td>\n",
              "      <td>5.0</td>\n",
              "      <td>70.0</td>\n",
              "      <td>0</td>\n",
              "      <td>1</td>\n",
              "      <td>4</td>\n",
              "      <td>1</td>\n",
              "      <td>4</td>\n",
              "    </tr>\n",
              "    <tr>\n",
              "      <th>2</th>\n",
              "      <td>0</td>\n",
              "      <td>2018</td>\n",
              "      <td>1</td>\n",
              "      <td>1</td>\n",
              "      <td>1</td>\n",
              "      <td>5.0</td>\n",
              "      <td>26.0</td>\n",
              "      <td>1</td>\n",
              "      <td>3</td>\n",
              "      <td>3</td>\n",
              "      <td>6</td>\n",
              "      <td>9</td>\n",
              "    </tr>\n",
              "    <tr>\n",
              "      <th>3</th>\n",
              "      <td>0</td>\n",
              "      <td>2018</td>\n",
              "      <td>0</td>\n",
              "      <td>0</td>\n",
              "      <td>1</td>\n",
              "      <td>5.0</td>\n",
              "      <td>34.0</td>\n",
              "      <td>0</td>\n",
              "      <td>1</td>\n",
              "      <td>2</td>\n",
              "      <td>3</td>\n",
              "      <td>3</td>\n",
              "    </tr>\n",
              "    <tr>\n",
              "      <th>4</th>\n",
              "      <td>0</td>\n",
              "      <td>2018</td>\n",
              "      <td>0</td>\n",
              "      <td>1</td>\n",
              "      <td>0</td>\n",
              "      <td>8.0</td>\n",
              "      <td>26.0</td>\n",
              "      <td>1</td>\n",
              "      <td>0</td>\n",
              "      <td>3</td>\n",
              "      <td>3</td>\n",
              "      <td>5</td>\n",
              "    </tr>\n",
              "  </tbody>\n",
              "</table>\n",
              "</div>"
            ],
            "text/plain": [
              "   country  year  ...  Level of Educuation  Type of Job\n",
              "0        0  2018  ...                    4            9\n",
              "1        0  2018  ...                    1            4\n",
              "2        0  2018  ...                    6            9\n",
              "3        0  2018  ...                    3            3\n",
              "4        0  2018  ...                    3            5\n",
              "\n",
              "[5 rows x 12 columns]"
            ]
          },
          "metadata": {
            "tags": []
          },
          "execution_count": 194
        }
      ]
    },
    {
      "cell_type": "code",
      "metadata": {
        "id": "l_CB-6TUf8p1",
        "colab_type": "code",
        "colab": {
          "base_uri": "https://localhost:8080/",
          "height": 1000
        },
        "outputId": "d90a76e5-4dfa-4664-d235-ac35aca30426"
      },
      "source": [
        "sns.pairplot(df3)\n",
        "plt.show()"
      ],
      "execution_count": null,
      "outputs": [
        {
          "output_type": "display_data",
          "data": {
            "image/png": "[encoded data removed]",
            "text/plain": [
              "<Figure size 2160x2160 with 156 Axes>"
            ]
          },
          "metadata": {
            "tags": [],
            "needs_background": "light"
          }
        }
      ]
    },
    {
      "cell_type": "code",
      "metadata": {
        "id": "rKGvaSUXgffF",
        "colab_type": "code",
        "colab": {
          "base_uri": "https://localhost:8080/",
          "height": 698
        },
        "outputId": "024501c4-8969-4dca-aed8-e2e3b089d8fd"
      },
      "source": [
        "plt.subplots(figsize=(15,10))\n",
        "sns.heatmap(df2.corr(),annot=True)\n",
        "plt.show()\n",
        "\n"
      ],
      "execution_count": null,
      "outputs": [
        {
          "output_type": "display_data",
          "data": {
            "image/png": "[encoded data removed]",
            "text/plain": [
              "<Figure size 1080x720 with 2 Axes>"
            ]
          },
          "metadata": {
            "tags": [],
            "needs_background": "light"
          }
        }
      ]
    },
    {
      "cell_type": "code",
      "metadata": {
        "id": "oUGLqZBMaZPs",
        "colab_type": "code",
        "colab": {
          "base_uri": "https://localhost:8080/",
          "height": 50
        },
        "outputId": "251c9993-5610-40f8-8236-6399d3d85d85"
      },
      "source": [
        "# Question: Determine the relationship between the household size and respondent age of vehicle \n",
        "# by determining the correlation coeffient.\n",
        "# Calculating the pearson coefficient\n",
        "pearson_coeff = df2[\"household_size\"].corr(df2[\"Respondent Age\"], method=\"pearson\") \n",
        "print(pearson_coeff)\n",
        "\n",
        "# Checking whether you have to define the pearson\n",
        "coeff = df3[\"household_size\"].corr(df3[\"Respondent Age\"]) \n",
        "print(coeff)"
      ],
      "execution_count": null,
      "outputs": [
        {
          "output_type": "stream",
          "text": [
            "-0.105351661000559\n",
            "-0.105351661000559\n"
          ],
          "name": "stdout"
        }
      ]
    },
    {
      "cell_type": "code",
      "metadata": {
        "id": "pPWoZvVMbOr5",
        "colab_type": "code",
        "colab": {
          "base_uri": "https://localhost:8080/",
          "height": 34
        },
        "outputId": "dc0858d5-997c-425b-e2a8-ce23bf039b97"
      },
      "source": [
        "# Question: Determine the relationship between the household size and respondent age of vehicle \n",
        "# by determining the correlation coeffient.\n",
        "# Calculating the pearson coefficient\n",
        "pearson_coeff = df2[\"The relathip with head\"].corr(df2[\"gender_of_respondent\"], method=\"pearson\") \n",
        "print(pearson_coeff)"
      ],
      "execution_count": null,
      "outputs": [
        {
          "output_type": "stream",
          "text": [
            "-0.4758427450249635\n"
          ],
          "name": "stdout"
        }
      ]
    },
    {
      "cell_type": "code",
      "metadata": {
        "id": "YeBYbSxYiXHX",
        "colab_type": "code",
        "colab": {
          "base_uri": "https://localhost:8080/",
          "height": 34
        },
        "outputId": "54807d91-cf89-4240-e360-236ea2577d2f"
      },
      "source": [
        "# Question: Determine the relationship between the household size and respondent age of vehicle \n",
        "# by determining the correlation coeffient.\n",
        "# Calculating the pearson coefficient\n",
        "pearson_coeff = df3[\"Level of Educuation\"].corr(df2[\"Has a Bank account\"], method=\"pearson\") \n",
        "print(pearson_coeff)"
      ],
      "execution_count": null,
      "outputs": [
        {
          "output_type": "stream",
          "text": [
            "0.3245918167911243\n"
          ],
          "name": "stdout"
        }
      ]
    },
    {
      "cell_type": "markdown",
      "metadata": {
        "id": "dwF_c2dnmgpJ",
        "colab_type": "text"
      },
      "source": [
        "* Having a bank account is moderately correlated with level of education of an individual with a correlation coeffient of 0.32. Therefore one of the factors to consider when looking at bank account presence is their individual level of education.\n",
        "\n",
        "* The gender of the respondent and the access to a cell phone have weak positive correlation with having a bank account. They should therfore be considered but not as strongly as the level of education ofthe individual.\n",
        "\n",
        "* The country, household size, relationship with the head of the family and marital status of an individual have weak negative correlation with whether an individual has a bank account or not. \n"
      ]
    },
    {
      "cell_type": "markdown",
      "metadata": {
        "id": "WJRcDpj9NL58",
        "colab_type": "text"
      },
      "source": [
        "###c. Multivariate analysis"
      ]
    },
    {
      "cell_type": "markdown",
      "metadata": {
        "id": "6cWK0BeWNai8",
        "colab_type": "text"
      },
      "source": [
        "###PRINCIPAL COMPONENT ANALYSIS"
      ]
    },
    {
      "cell_type": "code",
      "metadata": {
        "id": "94ZUU3b_GgTR",
        "colab_type": "code",
        "colab": {
          "base_uri": "https://localhost:8080/",
          "height": 296
        },
        "outputId": "70a6015c-fb65-4975-d114-d7903b82b43d"
      },
      "source": [
        "df1a=df1.drop(['uniqueid'], axis=1)\n",
        "#df1b=df1a.drop('Has a Bank account', 1)\n",
        "df2=df1a\n",
        "df2.head()\n",
        "\n"
      ],
      "execution_count": null,
      "outputs": [
        {
          "output_type": "execute_result",
          "data": {
            "text/html": [
              "<div>\n",
              "<style scoped>\n",
              "    .dataframe tbody tr th:only-of-type {\n",
              "        vertical-align: middle;\n",
              "    }\n",
              "\n",
              "    .dataframe tbody tr th {\n",
              "        vertical-align: top;\n",
              "    }\n",
              "\n",
              "    .dataframe thead th {\n",
              "        text-align: right;\n",
              "    }\n",
              "</style>\n",
              "<table border=\"1\" class=\"dataframe\">\n",
              "  <thead>\n",
              "    <tr style=\"text-align: right;\">\n",
              "      <th></th>\n",
              "      <th>country</th>\n",
              "      <th>year</th>\n",
              "      <th>Has a Bank account</th>\n",
              "      <th>Type of Location</th>\n",
              "      <th>Cell Phone Access</th>\n",
              "      <th>household_size</th>\n",
              "      <th>Respondent Age</th>\n",
              "      <th>gender_of_respondent</th>\n",
              "      <th>The relathip with head</th>\n",
              "      <th>marital_status</th>\n",
              "      <th>Level of Educuation</th>\n",
              "      <th>Type of Job</th>\n",
              "    </tr>\n",
              "  </thead>\n",
              "  <tbody>\n",
              "    <tr>\n",
              "      <th>0</th>\n",
              "      <td>Kenya</td>\n",
              "      <td>2018</td>\n",
              "      <td>Yes</td>\n",
              "      <td>Rural</td>\n",
              "      <td>Yes</td>\n",
              "      <td>3.0</td>\n",
              "      <td>24.0</td>\n",
              "      <td>Female</td>\n",
              "      <td>Spouse</td>\n",
              "      <td>Married/Living together</td>\n",
              "      <td>Secondary education</td>\n",
              "      <td>Self employed</td>\n",
              "    </tr>\n",
              "    <tr>\n",
              "      <th>1</th>\n",
              "      <td>Kenya</td>\n",
              "      <td>2018</td>\n",
              "      <td>No</td>\n",
              "      <td>Rural</td>\n",
              "      <td>No</td>\n",
              "      <td>5.0</td>\n",
              "      <td>70.0</td>\n",
              "      <td>Female</td>\n",
              "      <td>Head of Household</td>\n",
              "      <td>Widowed</td>\n",
              "      <td>No formal education</td>\n",
              "      <td>Government Dependent</td>\n",
              "    </tr>\n",
              "    <tr>\n",
              "      <th>2</th>\n",
              "      <td>Kenya</td>\n",
              "      <td>2018</td>\n",
              "      <td>Yes</td>\n",
              "      <td>Urban</td>\n",
              "      <td>Yes</td>\n",
              "      <td>5.0</td>\n",
              "      <td>26.0</td>\n",
              "      <td>Male</td>\n",
              "      <td>Other relative</td>\n",
              "      <td>Single/Never Married</td>\n",
              "      <td>Vocational/Specialised training</td>\n",
              "      <td>Self employed</td>\n",
              "    </tr>\n",
              "    <tr>\n",
              "      <th>3</th>\n",
              "      <td>Kenya</td>\n",
              "      <td>2018</td>\n",
              "      <td>No</td>\n",
              "      <td>Rural</td>\n",
              "      <td>Yes</td>\n",
              "      <td>5.0</td>\n",
              "      <td>34.0</td>\n",
              "      <td>Female</td>\n",
              "      <td>Head of Household</td>\n",
              "      <td>Married/Living together</td>\n",
              "      <td>Primary education</td>\n",
              "      <td>Formally employed Private</td>\n",
              "    </tr>\n",
              "    <tr>\n",
              "      <th>4</th>\n",
              "      <td>Kenya</td>\n",
              "      <td>2018</td>\n",
              "      <td>No</td>\n",
              "      <td>Urban</td>\n",
              "      <td>No</td>\n",
              "      <td>8.0</td>\n",
              "      <td>26.0</td>\n",
              "      <td>Male</td>\n",
              "      <td>Child</td>\n",
              "      <td>Single/Never Married</td>\n",
              "      <td>Primary education</td>\n",
              "      <td>Informally employed</td>\n",
              "    </tr>\n",
              "  </tbody>\n",
              "</table>\n",
              "</div>"
            ],
            "text/plain": [
              "  country  year  ...              Level of Educuation                Type of Job\n",
              "0   Kenya  2018  ...              Secondary education              Self employed\n",
              "1   Kenya  2018  ...              No formal education       Government Dependent\n",
              "2   Kenya  2018  ...  Vocational/Specialised training              Self employed\n",
              "3   Kenya  2018  ...                Primary education  Formally employed Private\n",
              "4   Kenya  2018  ...                Primary education        Informally employed\n",
              "\n",
              "[5 rows x 12 columns]"
            ]
          },
          "metadata": {
            "tags": []
          },
          "execution_count": 133
        }
      ]
    },
    {
      "cell_type": "code",
      "metadata": {
        "id": "SpMnjmHaGaNB",
        "colab_type": "code",
        "colab": {}
      },
      "source": [
        "from sklearn.preprocessing import LabelEncoder\n",
        "lb=LabelEncoder()\n",
        "df2['country']=lb.fit_transform(df2['country'])\n",
        "#df2['Has a Bank account']=lb.fit_transform(df2['Has a Bank account'])\n",
        "df2['Type of Location']=lb.fit_transform(df2['Type of Location'])\n",
        "df2['Cell Phone Access']=lb.fit_transform(df2['Cell Phone Access'])\n",
        "df2['gender_of_respondent']=lb.fit_transform(df2['gender_of_respondent'])\n",
        "df2['The relathip with head']=lb.fit_transform(df2['The relathip with head'])\n",
        "df2['marital_status']=lb.fit_transform(df2['marital_status'])\n",
        "df2['Level of Educuation']=lb.fit_transform(df2['Level of Educuation'])\n",
        "df2['Type of Job']=lb.fit_transform(df2['Type of Job'])"
      ],
      "execution_count": null,
      "outputs": []
    },
    {
      "cell_type": "code",
      "metadata": {
        "id": "8ysKpzOLFlE9",
        "colab_type": "code",
        "colab": {}
      },
      "source": [
        "# Preprocessing\n",
        "# The first preprocessing step is to divide the dataset into a feature set and corresponding labels. \n",
        "# The following script performs this task. The script below stores the feature sets into the X variable \n",
        "# and the series of corresponding labels in to the y variable.\n",
        "X = df2.drop('Has a Bank account', 1)\n",
        "y = df2['Has a Bank account']"
      ],
      "execution_count": null,
      "outputs": []
    },
    {
      "cell_type": "code",
      "metadata": {
        "id": "Y1wFCpyWJezX",
        "colab_type": "code",
        "colab": {
          "base_uri": "https://localhost:8080/",
          "height": 454
        },
        "outputId": "55ae03e8-33fd-4f46-a268-1b4164cff92d"
      },
      "source": [
        "print(X)\n",
        "print(y)"
      ],
      "execution_count": null,
      "outputs": [
        {
          "output_type": "stream",
          "text": [
            "       country  year  ...  Level of Educuation  Type of Job\n",
            "0            0  2018  ...                    4            9\n",
            "1            0  2018  ...                    1            4\n",
            "2            0  2018  ...                    6            9\n",
            "3            0  2018  ...                    3            3\n",
            "4            0  2018  ...                    3            5\n",
            "...        ...   ...  ...                  ...          ...\n",
            "23518        3  2018  ...                    3            6\n",
            "23519        3  2018  ...                    1            7\n",
            "23520        3  2018  ...                    4            7\n",
            "23521        3  2018  ...                    3            7\n",
            "23522        3  2018  ...                    4            9\n",
            "\n",
            "[22903 rows x 11 columns]\n",
            "0        Yes\n",
            "1         No\n",
            "2        Yes\n",
            "3         No\n",
            "4         No\n",
            "        ... \n",
            "23518     No\n",
            "23519     No\n",
            "23520     No\n",
            "23521     No\n",
            "23522     No\n",
            "Name: Has a Bank account, Length: 22903, dtype: object\n"
          ],
          "name": "stdout"
        }
      ]
    },
    {
      "cell_type": "code",
      "metadata": {
        "id": "ksy7XyhmJ9cP",
        "colab_type": "code",
        "colab": {}
      },
      "source": [
        "# Splitting the dataset into the Training set and Test set\n",
        "# The next preprocessing step is to divide data into training and test sets. \n",
        "#\n",
        "from sklearn.model_selection import train_test_split\n",
        "\n",
        "X_train, X_test, y_train, y_test = train_test_split(X, y, test_size=0.2, random_state=0)"
      ],
      "execution_count": null,
      "outputs": []
    },
    {
      "cell_type": "code",
      "metadata": {
        "id": "ux_KpuHoKCNv",
        "colab_type": "code",
        "colab": {}
      },
      "source": [
        "# Normalization\n",
        "# As mentioned earlier, PCA performs best with a normalized feature set. \n",
        "# We will perform standard scalar normalization to normalize our feature set. \n",
        "# \n",
        "from sklearn.preprocessing import StandardScaler\n",
        "\n",
        "sc = StandardScaler()\n",
        "X_train = sc.fit_transform(X_train)\n",
        "X_test = sc.transform(X_test)"
      ],
      "execution_count": null,
      "outputs": []
    },
    {
      "cell_type": "code",
      "metadata": {
        "id": "w67v3kqzKKQh",
        "colab_type": "code",
        "colab": {}
      },
      "source": [
        "# Applying PCA\n",
        "from sklearn.decomposition import PCA\n",
        "\n",
        "pca = PCA()\n",
        "X_train = pca.fit_transform(X_train)\n",
        "X_test = pca.transform(X_test)"
      ],
      "execution_count": null,
      "outputs": []
    },
    {
      "cell_type": "code",
      "metadata": {
        "id": "8McPtEGQKUY0",
        "colab_type": "code",
        "colab": {
          "base_uri": "https://localhost:8080/",
          "height": 67
        },
        "outputId": "9895fca8-5b99-4d3f-f4da-58312a0aef89"
      },
      "source": [
        "# Explained Variance Ratio\n",
        "# The PCA class contains explained_variance_ratio_ which returns the variance caused by each of the principal components. \n",
        "# We execute the following line of code to find the \"explained variance ratio\".\n",
        "# \n",
        "explained_variance = pca.explained_variance_ratio_\n",
        "\n",
        "# The explained_variance variable is now a float type array which contains variance ratios for each principal component. \n",
        "# The values for the explained_variance variable looks like what is shown in the output. \n",
        "# It can be seen that first principal component is responsible for 18.13% variance. \n",
        "# Similarly, the second principal component causes 15.01% variance in the dataset, the third principal component causes 14.18% variance \n",
        "# and the fourth principal componet causes 10.19 variance. \n",
        "# We can see that the first two principal components collectively contribute to 33.15% variance in the feature set.\n",
        "# Collectively we can say that (18.13 + 15.02 + 14.18 + 10.19) 57.52% percent of the classification information contained \n",
        "# in the feature set is captured by the first four principal components.\n",
        "explained_variance"
      ],
      "execution_count": null,
      "outputs": [
        {
          "output_type": "execute_result",
          "data": {
            "text/plain": [
              "array([0.18130793, 0.15010112, 0.14189226, 0.10190427, 0.08738755,\n",
              "       0.07492806, 0.06858378, 0.06106926, 0.05199683, 0.04232319,\n",
              "       0.03850575])"
            ]
          },
          "metadata": {
            "tags": []
          },
          "execution_count": 140
        }
      ]
    },
    {
      "cell_type": "code",
      "metadata": {
        "id": "UkHeb2pmKiHC",
        "colab_type": "code",
        "colab": {}
      },
      "source": [
        "# Using 1 Principal Component\n",
        "# Let's first try to use 1 principal component to train our algorithm. To do so, execute the following code:\n",
        "# \n",
        "from sklearn.decomposition import PCA\n",
        "\n",
        "pca = PCA(n_components=1)\n",
        "X_train = pca.fit_transform(X_train)\n",
        "X_test = pca.transform(X_test)"
      ],
      "execution_count": null,
      "outputs": []
    },
    {
      "cell_type": "code",
      "metadata": {
        "id": "uL1Pf3edKmY8",
        "colab_type": "code",
        "colab": {}
      },
      "source": [
        "# Training and Making Predictions\n",
        "# In this case we'll use random forest classification for making the predictions.\n",
        "# \n",
        "from sklearn.ensemble import RandomForestClassifier\n",
        "\n",
        "classifier = RandomForestClassifier(max_depth=2, random_state=0)\n",
        "classifier.fit(X_train, y_train)\n",
        "\n",
        "# Predicting the Test set results\n",
        "y_pred = classifier.predict(X_test)"
      ],
      "execution_count": null,
      "outputs": []
    },
    {
      "cell_type": "code",
      "metadata": {
        "id": "lgIaoE_eKqYw",
        "colab_type": "code",
        "colab": {
          "base_uri": "https://localhost:8080/",
          "height": 50
        },
        "outputId": "2438a58b-6ad7-48a8-f04f-f035f7383289"
      },
      "source": [
        "print(y_pred)\n",
        "occurrences = np.count_nonzero(y_pred)\n",
        "print(occurrences)"
      ],
      "execution_count": null,
      "outputs": [
        {
          "output_type": "stream",
          "text": [
            "['No' 'No' 'No' ... 'No' 'No' 'No']\n",
            "4581\n"
          ],
          "name": "stdout"
        }
      ]
    },
    {
      "cell_type": "code",
      "metadata": {
        "id": "cfM4055aK1pk",
        "colab_type": "code",
        "colab": {
          "base_uri": "https://localhost:8080/",
          "height": 67
        },
        "outputId": "93436785-57d9-4202-d0dd-6582668931d7"
      },
      "source": [
        "# Performance Evaluation\n",
        "# \n",
        "from sklearn.metrics import confusion_matrix\n",
        "from sklearn.metrics import accuracy_score\n",
        "\n",
        "cm = confusion_matrix(y_test, y_pred)\n",
        "print(cm)\n",
        "print('Accuracy' , accuracy_score(y_test, y_pred))\n",
        "\n",
        "# Noting that from the output that with only one feature, \n",
        "# the random forest algorithm is able to correctly predict 3934 out of 4581 instances, \n",
        "# resulting in 85.87% accuracy."
      ],
      "execution_count": null,
      "outputs": [
        {
          "output_type": "stream",
          "text": [
            "[[3934    0]\n",
            " [ 647    0]]\n",
            "Accuracy 0.8587644619078804\n"
          ],
          "name": "stdout"
        }
      ]
    },
    {
      "cell_type": "code",
      "metadata": {
        "id": "Xz8FElE6LA7H",
        "colab_type": "code",
        "colab": {
          "base_uri": "https://localhost:8080/",
          "height": 151
        },
        "outputId": "79fcda15-612f-454e-88c5-618f2f220a37"
      },
      "source": [
        "# Results with 2 Principal Components\n",
        "# Lets now write code to evaluate clasification performance of the \n",
        "# random forest algorithm with 3 principal components.\n",
        "X_train, X_test, y_train, y_test = train_test_split(X, y, test_size=0.2, random_state=0)\n",
        "\n",
        "sc = StandardScaler()\n",
        "X_train = sc.fit_transform(X_train)\n",
        "X_test = sc.transform(X_test)\n",
        "\n",
        "pca = PCA(n_components=3)\n",
        "X_train = pca.fit_transform(X_train)\n",
        "X_test = pca.transform(X_test)\n",
        "\n",
        "# With three principal components the classification accuracy should again increase to 93.33%\n",
        "classifier = RandomForestClassifier(max_depth=2, random_state=0)\n",
        "classifier.fit(X_train, y_train)"
      ],
      "execution_count": null,
      "outputs": [
        {
          "output_type": "execute_result",
          "data": {
            "text/plain": [
              "RandomForestClassifier(bootstrap=True, ccp_alpha=0.0, class_weight=None,\n",
              "                       criterion='gini', max_depth=2, max_features='auto',\n",
              "                       max_leaf_nodes=None, max_samples=None,\n",
              "                       min_impurity_decrease=0.0, min_impurity_split=None,\n",
              "                       min_samples_leaf=1, min_samples_split=2,\n",
              "                       min_weight_fraction_leaf=0.0, n_estimators=100,\n",
              "                       n_jobs=None, oob_score=False, random_state=0, verbose=0,\n",
              "                       warm_start=False)"
            ]
          },
          "metadata": {
            "tags": []
          },
          "execution_count": 158
        }
      ]
    },
    {
      "cell_type": "code",
      "metadata": {
        "id": "jE587hiILHrR",
        "colab_type": "code",
        "colab": {
          "base_uri": "https://localhost:8080/",
          "height": 67
        },
        "outputId": "6e5af9ef-76d3-483e-b42c-a4031d3443c0"
      },
      "source": [
        "# Predicting the Test set results\n",
        "y_pred = classifier.predict(X_test)\n",
        "\n",
        "cm = confusion_matrix(y_test, y_pred)\n",
        "print(cm)\n",
        "print('Accuracy' , accuracy_score(y_test, y_pred))"
      ],
      "execution_count": null,
      "outputs": [
        {
          "output_type": "stream",
          "text": [
            "[[3934    0]\n",
            " [ 647    0]]\n",
            "Accuracy 0.8587644619078804\n"
          ],
          "name": "stdout"
        }
      ]
    },
    {
      "cell_type": "markdown",
      "metadata": {
        "id": "KjljZv1QLlAd",
        "colab_type": "text"
      },
      "source": [
        "### Factor analysis"
      ]
    },
    {
      "cell_type": "code",
      "metadata": {
        "id": "HRlHf3LCLhia",
        "colab_type": "code",
        "colab": {
          "base_uri": "https://localhost:8080/",
          "height": 202
        },
        "outputId": "cf1f4433-bf67-4e0f-ab9c-10a753f3887c"
      },
      "source": [
        "# Adequacy Test\n",
        "# Before we perform factor analysis,you need to evaluate the “factorability” of our dataset. \n",
        "# Factorability means \"can we found the factors in the dataset?\". \n",
        "# There are two methods to check the factorability or sampling adequacy:\n",
        "# - Bartlett’s Test\n",
        "# - Kaiser-Meyer-Olkin Test\n",
        "# ---\n",
        "# Bartlett’s test of sphericity checks whether or not the observed variables intercorrelate at all \n",
        "# using the observed correlation matrix against the identity matrix. If the test found statistically insignificant, \n",
        "# we should not employ a factor analysis.\n",
        "# ---\n",
        "\n",
        "# Installing factor analyzer \n",
        "!pip install factor_analyzer==0.2.3\n",
        "\n",
        "from factor_analyzer.factor_analyzer import calculate_bartlett_sphericity\n",
        "\n",
        "chi_square_value,p_value=calculate_bartlett_sphericity(X)\n",
        "chi_square_value, p_value\n",
        "\n",
        "# In Bartlett ’s test, the p-value is 0. The test was statistically significant, \n",
        "# indicating that the observed correlation matrix is not an identity matrix."
      ],
      "execution_count": null,
      "outputs": [
        {
          "output_type": "stream",
          "text": [
            "Collecting factor_analyzer==0.2.3\n",
            "  Downloading https://files.pythonhosted.org/packages/79/1b/84808bbeee0f3a8753c3d8034baf0aa0013cf08957eff750f366ce83f04a/factor_analyzer-0.2.3-py2.py3-none-any.whl\n",
            "Requirement already satisfied: numpy in /usr/local/lib/python3.6/dist-packages (from factor_analyzer==0.2.3) (1.18.5)\n",
            "Requirement already satisfied: scipy in /usr/local/lib/python3.6/dist-packages (from factor_analyzer==0.2.3) (1.4.1)\n",
            "Requirement already satisfied: pandas in /usr/local/lib/python3.6/dist-packages (from factor_analyzer==0.2.3) (1.0.5)\n",
            "Requirement already satisfied: pytz>=2017.2 in /usr/local/lib/python3.6/dist-packages (from pandas->factor_analyzer==0.2.3) (2018.9)\n",
            "Requirement already satisfied: python-dateutil>=2.6.1 in /usr/local/lib/python3.6/dist-packages (from pandas->factor_analyzer==0.2.3) (2.8.1)\n",
            "Requirement already satisfied: six>=1.5 in /usr/local/lib/python3.6/dist-packages (from python-dateutil>=2.6.1->pandas->factor_analyzer==0.2.3) (1.15.0)\n",
            "Installing collected packages: factor-analyzer\n",
            "Successfully installed factor-analyzer-0.2.3\n"
          ],
          "name": "stdout"
        },
        {
          "output_type": "execute_result",
          "data": {
            "text/plain": [
              "(30893.231975242, 0.0)"
            ]
          },
          "metadata": {
            "tags": []
          },
          "execution_count": 149
        }
      ]
    },
    {
      "cell_type": "code",
      "metadata": {
        "id": "FsZycG5EN7yU",
        "colab_type": "code",
        "colab": {
          "base_uri": "https://localhost:8080/",
          "height": 34
        },
        "outputId": "bb2a0df2-ad4a-4743-a3ca-2723b42c6395"
      },
      "source": [
        "# Step 9:\n",
        "# Kaiser-Meyer-Olkin (KMO) Test measures the suitability of data for factor analysis. \n",
        "# It determines the adequacy for each observed variable and for the complete model. \n",
        "# KMO estimates the proportion of variance among all the observed variable. \n",
        "# Lower proportion id more suitable for factor analysis. KMO values range between 0 and 1. \n",
        "# Value of KMO less than 0.6 is considered inadequate.\n",
        "# \n",
        "from factor_analyzer.factor_analyzer import calculate_kmo\n",
        "\n",
        "kmo_all,kmo_model=calculate_kmo(X)\n",
        "kmo_all\n",
        "kmo_model\n",
        "\n",
        "# The overall KMO for our data is 0.558, which is good enough to be rounded up to 0.6. \n",
        "# This value indicates that you can proceed with your planned factor analysis."
      ],
      "execution_count": null,
      "outputs": [
        {
          "output_type": "execute_result",
          "data": {
            "text/plain": [
              "0.5581099319413283"
            ]
          },
          "metadata": {
            "tags": []
          },
          "execution_count": 150
        }
      ]
    },
    {
      "cell_type": "code",
      "metadata": {
        "id": "2MKuSWltOFTI",
        "colab_type": "code",
        "colab": {
          "base_uri": "https://localhost:8080/",
          "height": 373
        },
        "outputId": "6b8f5ca9-5496-4822-f5e5-60ee956c2a67"
      },
      "source": [
        "# Choosing the Number of Factors\n",
        "# For choosing the number of factors, you can use the Kaiser criterion and scree plot. Both are based on eigenvalues.\n",
        "# \n",
        "\n",
        "# Creating factor analysis object and perform factor \n",
        "from factor_analyzer import FactorAnalyzer\n",
        "fa = FactorAnalyzer()\n",
        "fa.analyze(X,10, rotation=None)\n",
        "\n",
        "# Checking the Eigenvalues\n",
        "ev, v = fa.get_eigenvalues()\n",
        "ev\n",
        "\n",
        "# Here, we can see only for 4-factors eigenvalues are greater than one. \n",
        "# It means we need to choose only 4 factors (or unobserved variables)."
      ],
      "execution_count": null,
      "outputs": [
        {
          "output_type": "execute_result",
          "data": {
            "text/html": [
              "<div>\n",
              "<style scoped>\n",
              "    .dataframe tbody tr th:only-of-type {\n",
              "        vertical-align: middle;\n",
              "    }\n",
              "\n",
              "    .dataframe tbody tr th {\n",
              "        vertical-align: top;\n",
              "    }\n",
              "\n",
              "    .dataframe thead th {\n",
              "        text-align: right;\n",
              "    }\n",
              "</style>\n",
              "<table border=\"1\" class=\"dataframe\">\n",
              "  <thead>\n",
              "    <tr style=\"text-align: right;\">\n",
              "      <th></th>\n",
              "      <th>Original_Eigenvalues</th>\n",
              "    </tr>\n",
              "  </thead>\n",
              "  <tbody>\n",
              "    <tr>\n",
              "      <th>0</th>\n",
              "      <td>2.001838</td>\n",
              "    </tr>\n",
              "    <tr>\n",
              "      <th>1</th>\n",
              "      <td>1.652307</td>\n",
              "    </tr>\n",
              "    <tr>\n",
              "      <th>2</th>\n",
              "      <td>1.556101</td>\n",
              "    </tr>\n",
              "    <tr>\n",
              "      <th>3</th>\n",
              "      <td>1.123654</td>\n",
              "    </tr>\n",
              "    <tr>\n",
              "      <th>4</th>\n",
              "      <td>0.961401</td>\n",
              "    </tr>\n",
              "    <tr>\n",
              "      <th>5</th>\n",
              "      <td>0.822650</td>\n",
              "    </tr>\n",
              "    <tr>\n",
              "      <th>6</th>\n",
              "      <td>0.754407</td>\n",
              "    </tr>\n",
              "    <tr>\n",
              "      <th>7</th>\n",
              "      <td>0.666110</td>\n",
              "    </tr>\n",
              "    <tr>\n",
              "      <th>8</th>\n",
              "      <td>0.571321</td>\n",
              "    </tr>\n",
              "    <tr>\n",
              "      <th>9</th>\n",
              "      <td>0.468645</td>\n",
              "    </tr>\n",
              "    <tr>\n",
              "      <th>10</th>\n",
              "      <td>0.421566</td>\n",
              "    </tr>\n",
              "  </tbody>\n",
              "</table>\n",
              "</div>"
            ],
            "text/plain": [
              "    Original_Eigenvalues\n",
              "0               2.001838\n",
              "1               1.652307\n",
              "2               1.556101\n",
              "3               1.123654\n",
              "4               0.961401\n",
              "5               0.822650\n",
              "6               0.754407\n",
              "7               0.666110\n",
              "8               0.571321\n",
              "9               0.468645\n",
              "10              0.421566"
            ]
          },
          "metadata": {
            "tags": []
          },
          "execution_count": 152
        }
      ]
    },
    {
      "cell_type": "code",
      "metadata": {
        "id": "rGj_e-9KOQGa",
        "colab_type": "code",
        "colab": {
          "base_uri": "https://localhost:8080/",
          "height": 295
        },
        "outputId": "d17c6e7a-c4b0-45a5-bf92-9ee2ad766ac9"
      },
      "source": [
        "# The scree plot method draws a straight line for each factor and its eigenvalues. \n",
        "# Number eigenvalues greater than one considered as the number of factors.\n",
        "\n",
        "# Creating a scree plot using matplotlib\n",
        "#\n",
        "plt.scatter(range(1,X.shape[1]+1),ev)\n",
        "plt.plot(range(1,X.shape[1]+1),ev)\n",
        "plt.title('Scree Plot')\n",
        "plt.xlabel('Factors')\n",
        "plt.ylabel('Eigenvalue')\n",
        "plt.grid()\n",
        "plt.show()"
      ],
      "execution_count": null,
      "outputs": [
        {
          "output_type": "display_data",
          "data": {
            "image/png": "[encoded data removed]",
            "text/plain": [
              "<Figure size 432x288 with 1 Axes>"
            ]
          },
          "metadata": {
            "tags": [],
            "needs_background": "light"
          }
        }
      ]
    },
    {
      "cell_type": "code",
      "metadata": {
        "id": "grXC4C6ZOgtD",
        "colab_type": "code",
        "colab": {
          "base_uri": "https://localhost:8080/",
          "height": 373
        },
        "outputId": "3c0503bf-1c68-4e8c-9118-bc19f429aaa6"
      },
      "source": [
        "# Performing Factor Analysis\n",
        "# Creating factor analysis object and perform factor analysis\n",
        "#\n",
        "fa = FactorAnalyzer()\n",
        "fa.analyze(X, 4, rotation=\"varimax\")\n",
        "fa.loadings\n",
        "\n",
        "# Note that\n",
        "# Factor 1 has high factor loadings for TYPE OF JOB(0.58) AND TYPE OF LOCATION(0.61) (economic status)\n",
        "# Factor 2 has high factor loadings for GENDER OF RESPONDENT(0.54) AND RELATIONSHIP WITH THE HEAD OF THE FAMILY(0.91) (relationship)\n",
        "# Factor 3 has high factor loadings for RESPONDENT AGE(0.53) AND LEVEL OF EDUCATION(0.61) (personan details)\n",
        "# Factor 4 has high factor loadings for COUNTRY.(0.98) (nationality)"
      ],
      "execution_count": null,
      "outputs": [
        {
          "output_type": "execute_result",
          "data": {
            "text/html": [
              "<div>\n",
              "<style scoped>\n",
              "    .dataframe tbody tr th:only-of-type {\n",
              "        vertical-align: middle;\n",
              "    }\n",
              "\n",
              "    .dataframe tbody tr th {\n",
              "        vertical-align: top;\n",
              "    }\n",
              "\n",
              "    .dataframe thead th {\n",
              "        text-align: right;\n",
              "    }\n",
              "</style>\n",
              "<table border=\"1\" class=\"dataframe\">\n",
              "  <thead>\n",
              "    <tr style=\"text-align: right;\">\n",
              "      <th></th>\n",
              "      <th>Factor1</th>\n",
              "      <th>Factor2</th>\n",
              "      <th>Factor3</th>\n",
              "      <th>Factor4</th>\n",
              "    </tr>\n",
              "  </thead>\n",
              "  <tbody>\n",
              "    <tr>\n",
              "      <th>country</th>\n",
              "      <td>0.163318</td>\n",
              "      <td>0.054659</td>\n",
              "      <td>-0.017397</td>\n",
              "      <td>0.982943</td>\n",
              "    </tr>\n",
              "    <tr>\n",
              "      <th>year</th>\n",
              "      <td>0.444375</td>\n",
              "      <td>0.013711</td>\n",
              "      <td>0.085450</td>\n",
              "      <td>-0.171855</td>\n",
              "    </tr>\n",
              "    <tr>\n",
              "      <th>Type of Location</th>\n",
              "      <td>0.605250</td>\n",
              "      <td>0.007133</td>\n",
              "      <td>-0.002608</td>\n",
              "      <td>0.070655</td>\n",
              "    </tr>\n",
              "    <tr>\n",
              "      <th>Cell Phone Access</th>\n",
              "      <td>-0.154993</td>\n",
              "      <td>-0.131584</td>\n",
              "      <td>0.305946</td>\n",
              "      <td>-0.121517</td>\n",
              "    </tr>\n",
              "    <tr>\n",
              "      <th>household_size</th>\n",
              "      <td>-0.379439</td>\n",
              "      <td>0.066882</td>\n",
              "      <td>0.175864</td>\n",
              "      <td>-0.141295</td>\n",
              "    </tr>\n",
              "    <tr>\n",
              "      <th>Respondent Age</th>\n",
              "      <td>-0.068439</td>\n",
              "      <td>-0.083100</td>\n",
              "      <td>-0.531013</td>\n",
              "      <td>-0.069655</td>\n",
              "    </tr>\n",
              "    <tr>\n",
              "      <th>gender_of_respondent</th>\n",
              "      <td>-0.014824</td>\n",
              "      <td>-0.541340</td>\n",
              "      <td>0.116407</td>\n",
              "      <td>0.009197</td>\n",
              "    </tr>\n",
              "    <tr>\n",
              "      <th>The relathip with head</th>\n",
              "      <td>-0.028704</td>\n",
              "      <td>0.905839</td>\n",
              "      <td>0.176091</td>\n",
              "      <td>0.080467</td>\n",
              "    </tr>\n",
              "    <tr>\n",
              "      <th>marital_status</th>\n",
              "      <td>0.112971</td>\n",
              "      <td>-0.044496</td>\n",
              "      <td>-0.329962</td>\n",
              "      <td>-0.012579</td>\n",
              "    </tr>\n",
              "    <tr>\n",
              "      <th>Level of Educuation</th>\n",
              "      <td>0.218864</td>\n",
              "      <td>-0.132535</td>\n",
              "      <td>0.613165</td>\n",
              "      <td>-0.092521</td>\n",
              "    </tr>\n",
              "    <tr>\n",
              "      <th>Type of Job</th>\n",
              "      <td>0.589363</td>\n",
              "      <td>0.053561</td>\n",
              "      <td>0.003906</td>\n",
              "      <td>0.278635</td>\n",
              "    </tr>\n",
              "  </tbody>\n",
              "</table>\n",
              "</div>"
            ],
            "text/plain": [
              "                         Factor1   Factor2   Factor3   Factor4\n",
              "country                 0.163318  0.054659 -0.017397  0.982943\n",
              "year                    0.444375  0.013711  0.085450 -0.171855\n",
              "Type of Location        0.605250  0.007133 -0.002608  0.070655\n",
              "Cell Phone Access      -0.154993 -0.131584  0.305946 -0.121517\n",
              "household_size         -0.379439  0.066882  0.175864 -0.141295\n",
              "Respondent Age         -0.068439 -0.083100 -0.531013 -0.069655\n",
              "gender_of_respondent   -0.014824 -0.541340  0.116407  0.009197\n",
              "The relathip with head -0.028704  0.905839  0.176091  0.080467\n",
              "marital_status          0.112971 -0.044496 -0.329962 -0.012579\n",
              "Level of Educuation     0.218864 -0.132535  0.613165 -0.092521\n",
              "Type of Job             0.589363  0.053561  0.003906  0.278635"
            ]
          },
          "metadata": {
            "tags": []
          },
          "execution_count": 154
        }
      ]
    },
    {
      "cell_type": "code",
      "metadata": {
        "id": "pxP31F_fQeWE",
        "colab_type": "code",
        "colab": {
          "base_uri": "https://localhost:8080/",
          "height": 373
        },
        "outputId": "e3dfc3a5-cfdb-4195-e0fe-40fe44c66c2a"
      },
      "source": [
        "# Performing factor analysis for 4 factors\n",
        "# \n",
        "# Creating factor analysis object and perform factor analysis using 4 factors\n",
        "fa = FactorAnalyzer()\n",
        "fa.analyze(X, 4, rotation=\"varimax\")\n",
        "fa.loadings"
      ],
      "execution_count": null,
      "outputs": [
        {
          "output_type": "execute_result",
          "data": {
            "text/html": [
              "<div>\n",
              "<style scoped>\n",
              "    .dataframe tbody tr th:only-of-type {\n",
              "        vertical-align: middle;\n",
              "    }\n",
              "\n",
              "    .dataframe tbody tr th {\n",
              "        vertical-align: top;\n",
              "    }\n",
              "\n",
              "    .dataframe thead th {\n",
              "        text-align: right;\n",
              "    }\n",
              "</style>\n",
              "<table border=\"1\" class=\"dataframe\">\n",
              "  <thead>\n",
              "    <tr style=\"text-align: right;\">\n",
              "      <th></th>\n",
              "      <th>Factor1</th>\n",
              "      <th>Factor2</th>\n",
              "      <th>Factor3</th>\n",
              "      <th>Factor4</th>\n",
              "    </tr>\n",
              "  </thead>\n",
              "  <tbody>\n",
              "    <tr>\n",
              "      <th>country</th>\n",
              "      <td>0.163318</td>\n",
              "      <td>0.054659</td>\n",
              "      <td>-0.017397</td>\n",
              "      <td>0.982943</td>\n",
              "    </tr>\n",
              "    <tr>\n",
              "      <th>year</th>\n",
              "      <td>0.444375</td>\n",
              "      <td>0.013711</td>\n",
              "      <td>0.085450</td>\n",
              "      <td>-0.171855</td>\n",
              "    </tr>\n",
              "    <tr>\n",
              "      <th>Type of Location</th>\n",
              "      <td>0.605250</td>\n",
              "      <td>0.007133</td>\n",
              "      <td>-0.002608</td>\n",
              "      <td>0.070655</td>\n",
              "    </tr>\n",
              "    <tr>\n",
              "      <th>Cell Phone Access</th>\n",
              "      <td>-0.154993</td>\n",
              "      <td>-0.131584</td>\n",
              "      <td>0.305946</td>\n",
              "      <td>-0.121517</td>\n",
              "    </tr>\n",
              "    <tr>\n",
              "      <th>household_size</th>\n",
              "      <td>-0.379439</td>\n",
              "      <td>0.066882</td>\n",
              "      <td>0.175864</td>\n",
              "      <td>-0.141295</td>\n",
              "    </tr>\n",
              "    <tr>\n",
              "      <th>Respondent Age</th>\n",
              "      <td>-0.068439</td>\n",
              "      <td>-0.083100</td>\n",
              "      <td>-0.531013</td>\n",
              "      <td>-0.069655</td>\n",
              "    </tr>\n",
              "    <tr>\n",
              "      <th>gender_of_respondent</th>\n",
              "      <td>-0.014824</td>\n",
              "      <td>-0.541340</td>\n",
              "      <td>0.116407</td>\n",
              "      <td>0.009197</td>\n",
              "    </tr>\n",
              "    <tr>\n",
              "      <th>The relathip with head</th>\n",
              "      <td>-0.028704</td>\n",
              "      <td>0.905839</td>\n",
              "      <td>0.176091</td>\n",
              "      <td>0.080467</td>\n",
              "    </tr>\n",
              "    <tr>\n",
              "      <th>marital_status</th>\n",
              "      <td>0.112971</td>\n",
              "      <td>-0.044496</td>\n",
              "      <td>-0.329962</td>\n",
              "      <td>-0.012579</td>\n",
              "    </tr>\n",
              "    <tr>\n",
              "      <th>Level of Educuation</th>\n",
              "      <td>0.218864</td>\n",
              "      <td>-0.132535</td>\n",
              "      <td>0.613165</td>\n",
              "      <td>-0.092521</td>\n",
              "    </tr>\n",
              "    <tr>\n",
              "      <th>Type of Job</th>\n",
              "      <td>0.589363</td>\n",
              "      <td>0.053561</td>\n",
              "      <td>0.003906</td>\n",
              "      <td>0.278635</td>\n",
              "    </tr>\n",
              "  </tbody>\n",
              "</table>\n",
              "</div>"
            ],
            "text/plain": [
              "                         Factor1   Factor2   Factor3   Factor4\n",
              "country                 0.163318  0.054659 -0.017397  0.982943\n",
              "year                    0.444375  0.013711  0.085450 -0.171855\n",
              "Type of Location        0.605250  0.007133 -0.002608  0.070655\n",
              "Cell Phone Access      -0.154993 -0.131584  0.305946 -0.121517\n",
              "household_size         -0.379439  0.066882  0.175864 -0.141295\n",
              "Respondent Age         -0.068439 -0.083100 -0.531013 -0.069655\n",
              "gender_of_respondent   -0.014824 -0.541340  0.116407  0.009197\n",
              "The relathip with head -0.028704  0.905839  0.176091  0.080467\n",
              "marital_status          0.112971 -0.044496 -0.329962 -0.012579\n",
              "Level of Educuation     0.218864 -0.132535  0.613165 -0.092521\n",
              "Type of Job             0.589363  0.053561  0.003906  0.278635"
            ]
          },
          "metadata": {
            "tags": []
          },
          "execution_count": 155
        }
      ]
    },
    {
      "cell_type": "code",
      "metadata": {
        "id": "s7-3K3noQnzi",
        "colab_type": "code",
        "colab": {
          "base_uri": "https://localhost:8080/",
          "height": 136
        },
        "outputId": "2f19d4cc-1e9e-4482-9163-6d274df0acb4"
      },
      "source": [
        "# Getting variance of each factors\n",
        "# \n",
        "fa.get_factor_variance()\n",
        "\n",
        "# Noting total 40% cumulative Variance explained by the 4 factors."
      ],
      "execution_count": null,
      "outputs": [
        {
          "output_type": "execute_result",
          "data": {
            "text/html": [
              "<div>\n",
              "<style scoped>\n",
              "    .dataframe tbody tr th:only-of-type {\n",
              "        vertical-align: middle;\n",
              "    }\n",
              "\n",
              "    .dataframe tbody tr th {\n",
              "        vertical-align: top;\n",
              "    }\n",
              "\n",
              "    .dataframe thead th {\n",
              "        text-align: right;\n",
              "    }\n",
              "</style>\n",
              "<table border=\"1\" class=\"dataframe\">\n",
              "  <thead>\n",
              "    <tr style=\"text-align: right;\">\n",
              "      <th></th>\n",
              "      <th>Factor1</th>\n",
              "      <th>Factor2</th>\n",
              "      <th>Factor3</th>\n",
              "      <th>Factor4</th>\n",
              "    </tr>\n",
              "  </thead>\n",
              "  <tbody>\n",
              "    <tr>\n",
              "      <th>SS Loadings</th>\n",
              "      <td>1.172206</td>\n",
              "      <td>1.167928</td>\n",
              "      <td>0.943537</td>\n",
              "      <td>1.133201</td>\n",
              "    </tr>\n",
              "    <tr>\n",
              "      <th>Proportion Var</th>\n",
              "      <td>0.106564</td>\n",
              "      <td>0.106175</td>\n",
              "      <td>0.085776</td>\n",
              "      <td>0.103018</td>\n",
              "    </tr>\n",
              "    <tr>\n",
              "      <th>Cumulative Var</th>\n",
              "      <td>0.106564</td>\n",
              "      <td>0.212739</td>\n",
              "      <td>0.298515</td>\n",
              "      <td>0.401534</td>\n",
              "    </tr>\n",
              "  </tbody>\n",
              "</table>\n",
              "</div>"
            ],
            "text/plain": [
              "                 Factor1   Factor2   Factor3   Factor4\n",
              "SS Loadings     1.172206  1.167928  0.943537  1.133201\n",
              "Proportion Var  0.106564  0.106175  0.085776  0.103018\n",
              "Cumulative Var  0.106564  0.212739  0.298515  0.401534"
            ]
          },
          "metadata": {
            "tags": []
          },
          "execution_count": 157
        }
      ]
    },
    {
      "cell_type": "code",
      "metadata": {
        "id": "ip48f5qSK1dR",
        "colab_type": "code",
        "colab": {}
      },
      "source": [
        ""
      ],
      "execution_count": null,
      "outputs": []
    },
    {
      "cell_type": "markdown",
      "metadata": {
        "id": "1ZAcvMa9K2Th",
        "colab_type": "text"
      },
      "source": [
        "#### Recommendations\n",
        "\n",
        "Factor 1 has high factor loadings for TYPE OF JOB(0.58) AND TYPE OF LOCATION(0.61) (economic status).\n",
        "Factor 2 has high factor loadings for GENDER OF RESPONDENT(0.54) AND RELATIONSHIP WITH THE HEAD OF THE FAMILY(0.91) (relationship).\n",
        "Factor 3 has high factor loadings for RESPONDENT AGE(0.53) AND LEVEL OF EDUCATION(0.61) (personan details).\n",
        "Factor 4 has high factor loadings for COUNTRY.(0.98) (nationality)\n",
        "\n",
        "* The country an individual comes from is high predictor of whether an individual has a bank account or not and contributes a variance of 0.103 to the cumulative variance of 0.401.\n",
        "* Economic factors such as the job type an individual has and the location they stay is another set of variables to be considered jointly as they contribute a proportion varaince of 0.106.\n",
        "* Relationship status of an individual also needs to be considered.\n",
        "* Other varaibles such as the year, access to cell phone, household size and marital status do not contribute to the likelihood of an individual having access to bank account.\n",
        "* In summary, the country, type of job, type of location, gender, relationship with the head of the family, age and level of education are important factors in predicting whether an individual has access to bank account or not.\n",
        "\n",
        "\n"
      ]
    },
    {
      "cell_type": "markdown",
      "metadata": {
        "id": "bSckgCeT1W-6",
        "colab_type": "text"
      },
      "source": [
        "##5. Challenging the solution"
      ]
    },
    {
      "cell_type": "markdown",
      "metadata": {
        "id": "b3Q11_NgJwev",
        "colab_type": "text"
      },
      "source": [
        "* How does having access to a phone play a role in an individual's ability to access a bank accout or have one?\n",
        "* If the year an individual responded to this survey, what/how important is it in future reference?\n",
        "* Why doesnt marital status influence the ability of an individual having a bank account?"
      ]
    },
    {
      "cell_type": "code",
      "metadata": {
        "id": "r3aR0s1HJvaW",
        "colab_type": "code",
        "colab": {}
      },
      "source": [
        ""
      ],
      "execution_count": null,
      "outputs": []
    },
    {
      "cell_type": "markdown",
      "metadata": {
        "id": "CJW9mE381nWG",
        "colab_type": "text"
      },
      "source": [
        "##6. Follow up questions"
      ]
    },
    {
      "cell_type": "markdown",
      "metadata": {
        "id": "Q7DkVmJC17fv",
        "colab_type": "text"
      },
      "source": [
        "Refining our question or collecting new data, all in an iterative process to get at the truth."
      ]
    },
    {
      "cell_type": "markdown",
      "metadata": {
        "id": "RHvFbuaK1_6H",
        "colab_type": "text"
      },
      "source": [
        "a). Did we have the right data?\n",
        "\n",
        "Yeah we do have the right data but it is not exhaustive of all variables that might affect having a bank acount or not in real life."
      ]
    },
    {
      "cell_type": "markdown",
      "metadata": {
        "id": "PlxbdCE02Llb",
        "colab_type": "text"
      },
      "source": [
        "b). Do we need other data to answer our question?\n",
        "\n",
        "We do  need more that complement this data and give it context and a better realistic understanding."
      ]
    },
    {
      "cell_type": "markdown",
      "metadata": {
        "id": "9BnNc0wy2Xpd",
        "colab_type": "text"
      },
      "source": [
        "c). Did we have the right question?\n",
        "\n",
        "Yeah we do, but maybe there is a way to ask more direct and specifc questions."
      ]
    }
  ]
}